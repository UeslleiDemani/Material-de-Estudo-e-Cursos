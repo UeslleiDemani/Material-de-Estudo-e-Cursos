{
 "cells": [
  {
   "cell_type": "markdown",
   "metadata": {
    "id": "3Wh6FS3jxcQ5"
   },
   "source": [
    "# Limpeza de Dados."
   ]
  },
  {
   "cell_type": "markdown",
   "metadata": {
    "id": "RT6cyvE4xcQ6"
   },
   "source": [
    "## Introdução\n",
    "\n",
    "A limpeza é uma etapa necessária em qualquer projeto de dados. \n",
    "\n",
    "Podemos resumir o processo de limpeza de dados nas cinco tarefas a seguir:\n",
    "\n",
    "**1. Resolva problemas de formatação e atribuição dos tipos de dados corretos.**\n",
    "\n",
    "Por exemplo, ao passar um arquivo CSV para o Pandas, uma data pode não ser importada corretamente, como pode ser o caso de um campo de data onde 20090609231247 é importado em vez de 2009-06-09 23:12:47.\n",
    "\n",
    "O formato em que os dados são encontrados determina quais operações podem ser executadas nele.\n",
    "\n",
    "**2. Padronize as categorias.**\n",
    "\n",
    "Quando os dados foram coletados com um sistema que não possui valores padronizados, os valores que representam a mesma categoria podem ser expressos de forma diferente. Por exemplo: Arg, AR, Argentina.\n",
    "\n",
    "**3. Corrija os valores errados.**\n",
    "\n",
    "Por exemplo: um valor inválido ou numérico para descrever o gênero; ou uma idade representada por um número negativo ou muito maior que 100.\n",
    "\n",
    "**4. Preencha os dados ausentes.**\n",
    "\n",
    "Conjuntos de dados do mundo real geralmente vêm com dados ausentes que correspondem a informações que foram perdidas ou nunca coletadas. Existem várias técnicas para preencher os dados ausentes. O processo de preenchimento de dados ausentes é chamado de \"imputação\".\n",
    "\n",
    "**5. Organize o conjunto de dados.**\n",
    "\n",
    "É importante estruturar as linhas e colunas da maneira mais conveniente. Para fazer isso, as regras de *tidy data* (dados organizados) podem ser aplicadas."
   ]
  },
  {
   "cell_type": "markdown",
   "metadata": {
    "id": "8T5j9mQ_xcQ6"
   },
   "source": [
    "## Dataset\n",
    "\n",
    "Será utilizado um conjunto de dados [imobiliários](https://www.kaggle.com/dansbecker/melbourne-housing-snapshot) da cidade de Melbourne, na Austrália. O conjunto de dados que usaremos nesta parte, a partir de 2017, é construído com os dados que foram [publicados a cada semana](https://www.domain.com.au/).\n",
    "\n",
    "Os dados incluem endereço, tipo de imóvel, bairro, forma de venda, quartos, preço, agente imobiliário, data da venda e distância até o CBD (Central Business District).\n",
    "\n",
    "Os campos que inclui são:\n",
    "\n",
    "**Rooms**: número de quartos\n",
    "\n",
    "**Price**: preço em dólares\n",
    "\n",
    "**Method**: S - imóvel vendido; SP - imóvel vendido anteriormente; PI - propriedade transmitida; PN - vendido antes não divulgado; SN - vendido não divulgado; NB - sem licitação; VB - oferta do fornecedor; W - retirado antes do leilão; SA - vendido após leilão; SS - vendido após o preço do leilão não divulgado. N / A - preço ou lance mais alto não disponível.\n",
    "\n",
    "**Type**: br - quarto (s); h - casa, casa de campo, villa, semi, terraço; u - unidade, duplex; t - casa geminada; site dev - site de desenvolvimento; ou res - outro residencial.\n",
    "\n",
    "**SellerG**: agente imobiliario\n",
    "\n",
    "**Date**: data de venda\n",
    "\n",
    "**Distance**: distância até o CBD\n",
    "\n",
    "**Regionname**: região (oeste, noroeste, norte, nordeste ... etc)\n",
    "\n",
    "**Propertycount**: quantidade de propriedades existentes naquele subúrbio.\n",
    "\n",
    "**Bedroom2** : # Salas destruídas (de fontes diferentes)\n",
    "\n",
    "**Bathroom**: número de banheiros\n",
    "\n",
    "**Car**: número de vagas\n",
    "\n",
    "**Landsize**: superfície\n",
    "\n",
    "**BuildingArea**: tamanho da construção\n",
    "\n",
    "**CouncilArea**: município\n"
   ]
  },
  {
   "cell_type": "code",
   "execution_count": 2,
   "metadata": {
    "colab": {
     "base_uri": "https://localhost:8080/",
     "height": 391
    },
    "executionInfo": {
     "elapsed": 787,
     "status": "ok",
     "timestamp": 1676846065538,
     "user": {
      "displayName": "Uesllei Demani",
      "userId": "09481222140022363643"
     },
     "user_tz": 180
    },
    "id": "KtDowPncxcQ7",
    "outputId": "f1bac869-18e0-478c-c3f9-b8ce4e497f46"
   },
   "outputs": [
    {
     "data": {
      "text/html": [
       "<div>\n",
       "<style scoped>\n",
       "    .dataframe tbody tr th:only-of-type {\n",
       "        vertical-align: middle;\n",
       "    }\n",
       "\n",
       "    .dataframe tbody tr th {\n",
       "        vertical-align: top;\n",
       "    }\n",
       "\n",
       "    .dataframe thead th {\n",
       "        text-align: right;\n",
       "    }\n",
       "</style>\n",
       "<table border=\"1\" class=\"dataframe\">\n",
       "  <thead>\n",
       "    <tr style=\"text-align: right;\">\n",
       "      <th></th>\n",
       "      <th>Suburb</th>\n",
       "      <th>Address</th>\n",
       "      <th>Rooms</th>\n",
       "      <th>Type</th>\n",
       "      <th>Price</th>\n",
       "      <th>Method</th>\n",
       "      <th>SellerG</th>\n",
       "      <th>Date</th>\n",
       "      <th>Distance</th>\n",
       "      <th>Postcode</th>\n",
       "      <th>Bedroom2</th>\n",
       "      <th>Bathroom</th>\n",
       "      <th>Car</th>\n",
       "      <th>Landsize</th>\n",
       "      <th>BuildingArea</th>\n",
       "      <th>YearBuilt</th>\n",
       "      <th>CouncilArea</th>\n",
       "      <th>Lattitude</th>\n",
       "      <th>Longtitude</th>\n",
       "      <th>Regionname</th>\n",
       "      <th>Propertycount</th>\n",
       "    </tr>\n",
       "  </thead>\n",
       "  <tbody>\n",
       "    <tr>\n",
       "      <th>0</th>\n",
       "      <td>Abbotsford</td>\n",
       "      <td>85 Turner St</td>\n",
       "      <td>2</td>\n",
       "      <td>h</td>\n",
       "      <td>1480000.0</td>\n",
       "      <td>S</td>\n",
       "      <td>Biggin</td>\n",
       "      <td>3/12/2016</td>\n",
       "      <td>2.5</td>\n",
       "      <td>3067.0</td>\n",
       "      <td>2.0</td>\n",
       "      <td>1.0</td>\n",
       "      <td>1.0</td>\n",
       "      <td>202.0</td>\n",
       "      <td>NaN</td>\n",
       "      <td>NaN</td>\n",
       "      <td>Yarra</td>\n",
       "      <td>-37.7996</td>\n",
       "      <td>144.9984</td>\n",
       "      <td>Northern Metropolitan</td>\n",
       "      <td>4019.0</td>\n",
       "    </tr>\n",
       "    <tr>\n",
       "      <th>1</th>\n",
       "      <td>Abbotsford</td>\n",
       "      <td>25 Bloomburg St</td>\n",
       "      <td>2</td>\n",
       "      <td>h</td>\n",
       "      <td>1035000.0</td>\n",
       "      <td>S</td>\n",
       "      <td>Biggin</td>\n",
       "      <td>4/02/2016</td>\n",
       "      <td>2.5</td>\n",
       "      <td>3067.0</td>\n",
       "      <td>2.0</td>\n",
       "      <td>1.0</td>\n",
       "      <td>0.0</td>\n",
       "      <td>156.0</td>\n",
       "      <td>79.0</td>\n",
       "      <td>1900.0</td>\n",
       "      <td>Yarra</td>\n",
       "      <td>-37.8079</td>\n",
       "      <td>144.9934</td>\n",
       "      <td>Northern Metropolitan</td>\n",
       "      <td>4019.0</td>\n",
       "    </tr>\n",
       "    <tr>\n",
       "      <th>2</th>\n",
       "      <td>Abbotsford</td>\n",
       "      <td>5 Charles St</td>\n",
       "      <td>3</td>\n",
       "      <td>h</td>\n",
       "      <td>1465000.0</td>\n",
       "      <td>SP</td>\n",
       "      <td>Biggin</td>\n",
       "      <td>4/03/2017</td>\n",
       "      <td>2.5</td>\n",
       "      <td>3067.0</td>\n",
       "      <td>3.0</td>\n",
       "      <td>2.0</td>\n",
       "      <td>0.0</td>\n",
       "      <td>134.0</td>\n",
       "      <td>150.0</td>\n",
       "      <td>1900.0</td>\n",
       "      <td>Yarra</td>\n",
       "      <td>-37.8093</td>\n",
       "      <td>144.9944</td>\n",
       "      <td>Northern Metropolitan</td>\n",
       "      <td>4019.0</td>\n",
       "    </tr>\n",
       "    <tr>\n",
       "      <th>3</th>\n",
       "      <td>Abbotsford</td>\n",
       "      <td>40 Federation La</td>\n",
       "      <td>3</td>\n",
       "      <td>h</td>\n",
       "      <td>850000.0</td>\n",
       "      <td>PI</td>\n",
       "      <td>Biggin</td>\n",
       "      <td>4/03/2017</td>\n",
       "      <td>2.5</td>\n",
       "      <td>3067.0</td>\n",
       "      <td>3.0</td>\n",
       "      <td>2.0</td>\n",
       "      <td>1.0</td>\n",
       "      <td>94.0</td>\n",
       "      <td>NaN</td>\n",
       "      <td>NaN</td>\n",
       "      <td>Yarra</td>\n",
       "      <td>-37.7969</td>\n",
       "      <td>144.9969</td>\n",
       "      <td>Northern Metropolitan</td>\n",
       "      <td>4019.0</td>\n",
       "    </tr>\n",
       "    <tr>\n",
       "      <th>4</th>\n",
       "      <td>Abbotsford</td>\n",
       "      <td>55a Park St</td>\n",
       "      <td>4</td>\n",
       "      <td>h</td>\n",
       "      <td>1600000.0</td>\n",
       "      <td>VB</td>\n",
       "      <td>Nelson</td>\n",
       "      <td>4/06/2016</td>\n",
       "      <td>2.5</td>\n",
       "      <td>3067.0</td>\n",
       "      <td>3.0</td>\n",
       "      <td>1.0</td>\n",
       "      <td>2.0</td>\n",
       "      <td>120.0</td>\n",
       "      <td>142.0</td>\n",
       "      <td>2014.0</td>\n",
       "      <td>Yarra</td>\n",
       "      <td>-37.8072</td>\n",
       "      <td>144.9941</td>\n",
       "      <td>Northern Metropolitan</td>\n",
       "      <td>4019.0</td>\n",
       "    </tr>\n",
       "  </tbody>\n",
       "</table>\n",
       "</div>"
      ],
      "text/plain": [
       "       Suburb           Address  Rooms Type      Price Method SellerG   \n",
       "0  Abbotsford      85 Turner St      2    h  1480000.0      S  Biggin  \\\n",
       "1  Abbotsford   25 Bloomburg St      2    h  1035000.0      S  Biggin   \n",
       "2  Abbotsford      5 Charles St      3    h  1465000.0     SP  Biggin   \n",
       "3  Abbotsford  40 Federation La      3    h   850000.0     PI  Biggin   \n",
       "4  Abbotsford       55a Park St      4    h  1600000.0     VB  Nelson   \n",
       "\n",
       "        Date  Distance  Postcode  Bedroom2  Bathroom  Car  Landsize   \n",
       "0  3/12/2016       2.5    3067.0       2.0       1.0  1.0     202.0  \\\n",
       "1  4/02/2016       2.5    3067.0       2.0       1.0  0.0     156.0   \n",
       "2  4/03/2017       2.5    3067.0       3.0       2.0  0.0     134.0   \n",
       "3  4/03/2017       2.5    3067.0       3.0       2.0  1.0      94.0   \n",
       "4  4/06/2016       2.5    3067.0       3.0       1.0  2.0     120.0   \n",
       "\n",
       "   BuildingArea  YearBuilt CouncilArea  Lattitude  Longtitude   \n",
       "0           NaN        NaN       Yarra   -37.7996    144.9984  \\\n",
       "1          79.0     1900.0       Yarra   -37.8079    144.9934   \n",
       "2         150.0     1900.0       Yarra   -37.8093    144.9944   \n",
       "3           NaN        NaN       Yarra   -37.7969    144.9969   \n",
       "4         142.0     2014.0       Yarra   -37.8072    144.9941   \n",
       "\n",
       "              Regionname  Propertycount  \n",
       "0  Northern Metropolitan         4019.0  \n",
       "1  Northern Metropolitan         4019.0  \n",
       "2  Northern Metropolitan         4019.0  \n",
       "3  Northern Metropolitan         4019.0  \n",
       "4  Northern Metropolitan         4019.0  "
      ]
     },
     "execution_count": 2,
     "metadata": {},
     "output_type": "execute_result"
    }
   ],
   "source": [
    "import pandas as pd\n",
    "pd.set_option('display.max_columns', None) # Para mostrar todas as colunas\n",
    "\n",
    "# local\n",
    "\n",
    "data_location = \"../Data/melb_data.csv\"\n",
    "data = pd.read_csv(data_location)\n",
    "data.head()"
   ]
  },
  {
   "cell_type": "code",
   "execution_count": 12,
   "metadata": {},
   "outputs": [
    {
     "data": {
      "text/plain": [
       "(13580, 21)"
      ]
     },
     "execution_count": 12,
     "metadata": {},
     "output_type": "execute_result"
    }
   ],
   "source": [
    "#Tamanho do dataset\n",
    "data.shape"
   ]
  },
  {
   "cell_type": "markdown",
   "metadata": {
    "id": "jPCEXiCixcQ8"
   },
   "source": [
    "## Detecção de valores ausentes\n",
    "\n",
    "Começaremos detectando quais registros têm valores nulos e, em seguida, contaremos quantos nulos existem em cada coluna.\n",
    "\n",
    "Para isso usaremos o método [`isnull()`](https://pandas.pydata.org/pandas-docs/stable/reference/api/pandas.DataFrame.isnull.html) que nos retorna outro `DataFrame` onde cada elemento é `True` ou` False` dependendo se aquele elemento no objeto DataFrame original é nulo ou não."
   ]
  },
  {
   "cell_type": "code",
   "execution_count": 7,
   "metadata": {
    "colab": {
     "base_uri": "https://localhost:8080/"
    },
    "executionInfo": {
     "elapsed": 244,
     "status": "ok",
     "timestamp": 1676846084533,
     "user": {
      "displayName": "Uesllei Demani",
      "userId": "09481222140022363643"
     },
     "user_tz": 180
    },
    "id": "sTPinki4xcQ9",
    "outputId": "457030ce-c97a-4dee-8b2b-3e4e1fcd7f44"
   },
   "outputs": [
    {
     "name": "stdout",
     "output_type": "stream",
     "text": [
      "   Suburb  Address  Rooms   Type  Price  Method  SellerG   Date  Distance   \n",
      "0   False    False  False  False  False   False    False  False     False  \\\n",
      "1   False    False  False  False  False   False    False  False     False   \n",
      "2   False    False  False  False  False   False    False  False     False   \n",
      "\n",
      "   Postcode  Bedroom2  Bathroom    Car  Landsize  BuildingArea  YearBuilt   \n",
      "0     False     False     False  False     False          True       True  \\\n",
      "1     False     False     False  False     False         False      False   \n",
      "2     False     False     False  False     False         False      False   \n",
      "\n",
      "   CouncilArea  Lattitude  Longtitude  Regionname  Propertycount  \n",
      "0        False      False       False       False          False  \n",
      "1        False      False       False       False          False  \n",
      "2        False      False       False       False          False  \n"
     ]
    }
   ],
   "source": [
    "is_null_result = data.isnull()\n",
    "print(is_null_result.head(3))"
   ]
  },
  {
   "cell_type": "markdown",
   "metadata": {
    "id": "NlOnEeVHxcQ9"
   },
   "source": [
    "Outra maneira é usar o método: [`notnull()`](https://pandas.pydata.org/pandas-docs/stable/reference/api/pandas.DataFrame.notnull.html)"
   ]
  },
  {
   "cell_type": "code",
   "execution_count": 8,
   "metadata": {
    "id": "DruU6mbvxcQ9",
    "outputId": "9e82a299-93b4-4d6b-e48f-4984de00a3bf"
   },
   "outputs": [
    {
     "name": "stdout",
     "output_type": "stream",
     "text": [
      "   Suburb  Address  Rooms  Type  Price  Method  SellerG  Date  Distance   \n",
      "0    True     True   True  True   True    True     True  True      True  \\\n",
      "1    True     True   True  True   True    True     True  True      True   \n",
      "2    True     True   True  True   True    True     True  True      True   \n",
      "\n",
      "   Postcode  Bedroom2  Bathroom   Car  Landsize  BuildingArea  YearBuilt   \n",
      "0      True      True      True  True      True         False      False  \\\n",
      "1      True      True      True  True      True          True       True   \n",
      "2      True      True      True  True      True          True       True   \n",
      "\n",
      "   CouncilArea  Lattitude  Longtitude  Regionname  Propertycount  \n",
      "0         True       True        True        True           True  \n",
      "1         True       True        True        True           True  \n",
      "2         True       True        True        True           True  \n"
     ]
    }
   ],
   "source": [
    "is_notnull_resulto = data.notnull()\n",
    "print(is_notnull_resulto.head(3))"
   ]
  },
  {
   "cell_type": "markdown",
   "metadata": {
    "id": "wMmf_g4xxcQ9"
   },
   "source": [
    "<div id=\"caja1\" style=\"float:left;width: 100%;\">\n",
    "  <div style=\"float:left;width: 15%;\"><img src=\"../../../common/icons/haciendo_foco.png\" style=\"align:left\"/> </div>\n",
    "  <div style=\"float:left;width: 85%;\"><label>\n",
    "Observe, para cada elemento, a relação entre os valores em cada objeto de resultado DataFrame (is_null_result e is_notnull_result).</label></div>\n",
    "</div>"
   ]
  },
  {
   "cell_type": "markdown",
   "metadata": {
    "id": "wYoUxJKWxcQ-"
   },
   "source": [
    "Para ver quantos nulos existem em cada coluna, usaremos a função `sum` no `DataFrame` em que a função `isnull` estiver aplicada:"
   ]
  },
  {
   "cell_type": "code",
   "execution_count": 14,
   "metadata": {},
   "outputs": [
    {
     "data": {
      "text/plain": [
       "Suburb              0\n",
       "Address             0\n",
       "Rooms               0\n",
       "Type                0\n",
       "Price               0\n",
       "Method              0\n",
       "SellerG             0\n",
       "Date                0\n",
       "Distance            0\n",
       "Postcode            0\n",
       "Bedroom2            0\n",
       "Bathroom            0\n",
       "Car                62\n",
       "Landsize            0\n",
       "BuildingArea     6450\n",
       "YearBuilt        5375\n",
       "CouncilArea      1369\n",
       "Lattitude           0\n",
       "Longtitude          0\n",
       "Regionname          0\n",
       "Propertycount       0\n",
       "dtype: int64"
      ]
     },
     "execution_count": 14,
     "metadata": {},
     "output_type": "execute_result"
    }
   ],
   "source": [
    "# Somando a quantidade de nulos\n",
    "data.isnull().sum()"
   ]
  },
  {
   "cell_type": "code",
   "execution_count": 16,
   "metadata": {},
   "outputs": [
    {
     "data": {
      "text/plain": [
       "Suburb              0\n",
       "Address             0\n",
       "Rooms               0\n",
       "Type                0\n",
       "Price               0\n",
       "Method              0\n",
       "SellerG             0\n",
       "Date                0\n",
       "Distance            0\n",
       "Postcode            0\n",
       "Bedroom2            0\n",
       "Bathroom            0\n",
       "Car                62\n",
       "Landsize            0\n",
       "BuildingArea     6450\n",
       "YearBuilt        5375\n",
       "CouncilArea      1369\n",
       "Lattitude           0\n",
       "Longtitude          0\n",
       "Regionname          0\n",
       "Propertycount       0\n",
       "dtype: int64"
      ]
     },
     "execution_count": 16,
     "metadata": {},
     "output_type": "execute_result"
    }
   ],
   "source": [
    "# Somando a quantidade de nulos\n",
    "data.isna().sum()"
   ]
  },
  {
   "cell_type": "markdown",
   "metadata": {
    "id": "wl3ZP6gVxcRA"
   },
   "source": [
    "## Drop\n",
    "\n",
    "Assim que detectarmos os dados ausentes em nosso DataFrame, devemos decidir o que fazer com eles.\n",
    "\n",
    "Uma maneira de proceder é excluir os registros ou campos que contêm alguns dados ausentes:\n",
    "\n",
    "* Vantagem: fácil implementação\n",
    "* Desvantagem: perda significativa de informação, possíveis vieses nos estimadores dos parâmetros.\n",
    "\n",
    "Este método **assume que a não resposta foi gerada aleatoriamente** e isso geralmente não acontece.\n",
    "\n",
    "Se os dados ausentes forem poucos e distantes entre si, esse método é ideal.\n",
    "\n",
    "\n",
    "Algumas das opções são:\n",
    "\n",
    "* Exclua todas as colunas que têm algum valor ausente\n",
    "\n",
    "* Exclua todas as linhas que têm um valor ausente\n",
    "\n",
    "* Exclua todas as colunas que possuem todos os registros com valor ausente\n",
    "\n",
    "* Exclua todas as linhas que contêm todos os campos com valor ausente\n",
    "\n",
    "* Elimine todas as colunas que possuem um número de registros com valor (não nulo) menor que um limite (limite)\n",
    "\n",
    "* Elimine todas as linhas que possuem um número de campos com valor (não nulo) menor que um limite (limite)\n",
    "\n",
    "(Outras estratégias que veremos um pouco mais tarde são a imputação de valores ausentes.)\n",
    "\n",
    "O método que vamos usar para todas as opções listadas aqui é [`dropna()`](https://pandas.pydata.org/pandas-docs/stable/reference/api/pandas.DataFrame.dropna.html). Para mais informações veja a documentação:"
   ]
  },
  {
   "cell_type": "markdown",
   "metadata": {
    "id": "vbxK6mKCxcRA"
   },
   "source": [
    "### Remova todas as colunas que têm algum valor ausente"
   ]
  },
  {
   "cell_type": "code",
   "execution_count": 18,
   "metadata": {
    "id": "DEs6EDzexcRA",
    "outputId": "6f490e61-f1c2-4bca-c6e9-b48ae132ed11"
   },
   "outputs": [
    {
     "name": "stdout",
     "output_type": "stream",
     "text": [
      "(13580, 21)\n",
      "(13580, 17)\n"
     ]
    }
   ],
   "source": [
    "data_columns = data.dropna(axis = 1)\n",
    "# quantidade de colunas antes de aplicar a função: 21\n",
    "print(data.shape)\n",
    "# quantidade de colunas após aplicar a funçaõ: 17\n",
    "print(data_columns.shape)"
   ]
  },
  {
   "cell_type": "markdown",
   "metadata": {
    "id": "zr62gTdhxcRB"
   },
   "source": [
    "### Exclua todas as linhas que têm algum valor ausente"
   ]
  },
  {
   "cell_type": "code",
   "execution_count": 19,
   "metadata": {
    "id": "KtO6uCKJxcRB",
    "outputId": "39b41c8b-ea49-41be-ef9c-244fc30d4d51"
   },
   "outputs": [
    {
     "name": "stdout",
     "output_type": "stream",
     "text": [
      "(13580, 21)\n",
      "(6196, 21)\n"
     ]
    }
   ],
   "source": [
    "data_rows = data.dropna()\n",
    "# quantidade de linhas antes de aplicar a função: 13580\n",
    "print(data.shape)\n",
    "# quantidade de linhas após aplicar a função: 6196\n",
    "print(data_rows.shape)"
   ]
  },
  {
   "cell_type": "markdown",
   "metadata": {
    "id": "GDVHVIfTxcRB"
   },
   "source": [
    "o que é equivalente a:"
   ]
  },
  {
   "cell_type": "code",
   "execution_count": 20,
   "metadata": {
    "id": "lxKLZKKIxcRB",
    "outputId": "5541916f-41de-4c82-c47b-cd64b0463c50"
   },
   "outputs": [
    {
     "name": "stdout",
     "output_type": "stream",
     "text": [
      "(13580, 21)\n",
      "(6196, 21)\n"
     ]
    }
   ],
   "source": [
    "data_rows = data.dropna(how = allaxis = 0)\n",
    "print(data.shape)\n",
    "print(data_rows.shape)"
   ]
  },
  {
   "cell_type": "markdown",
   "metadata": {
    "id": "HhuQpZsbxcRC"
   },
   "source": [
    "Observe a perda de informações nos dois casos anteriores."
   ]
  },
  {
   "cell_type": "markdown",
   "metadata": {
    "id": "B4rvFocLxcRC"
   },
   "source": [
    "### Exclua todas as colunas que têm todos os registros com valor ausente"
   ]
  },
  {
   "cell_type": "code",
   "execution_count": 21,
   "metadata": {
    "id": "UVIYAT72xcRC",
    "outputId": "c35dbc8e-a8a2-4a6e-f678-deb89bbf9120"
   },
   "outputs": [
    {
     "name": "stdout",
     "output_type": "stream",
     "text": [
      "(13580, 21)\n",
      "(13580, 17)\n"
     ]
    }
   ],
   "source": [
    "data_clean_empty_col = data.dropna(axis = 1)\n",
    "print(data.shape)\n",
    "print(data_clean_empty_col.shape)"
   ]
  },
  {
   "cell_type": "markdown",
   "metadata": {
    "id": "QXUBRzmXxcRD"
   },
   "source": [
    "### Exclua todas as linhas que contêm todos os campos com valor ausente"
   ]
  },
  {
   "cell_type": "code",
   "execution_count": 22,
   "metadata": {
    "id": "i-CpSOlexcRD",
    "outputId": "16d02a83-6931-4090-a39b-77dbfa12171f"
   },
   "outputs": [
    {
     "name": "stdout",
     "output_type": "stream",
     "text": [
      "(13580, 21)\n",
      "(13580, 21)\n"
     ]
    }
   ],
   "source": [
    "data_clean_empty_row = data.dropna(axis = 0, \n",
    "                                   how = 'all'\n",
    "                                  )\n",
    "print(data.shape)\n",
    "print(data_clean_empty_row.shape)"
   ]
  },
  {
   "cell_type": "markdown",
   "metadata": {
    "id": "dPLht3iOxcRE"
   },
   "source": [
    "### Elimine todas as colunas que possuem um número de registros com valor (não nulo) menor que um limite (threshold) - Quantos valores não nulos eu preciso ter"
   ]
  },
  {
   "cell_type": "code",
   "execution_count": 25,
   "metadata": {
    "id": "G-iOkpxxxcRF",
    "outputId": "c44c71fa-0a47-4c67-9f47-6d67ef8330e1"
   },
   "outputs": [
    {
     "name": "stdout",
     "output_type": "stream",
     "text": [
      "(13580, 21)\n",
      "(13580, 18)\n"
     ]
    }
   ],
   "source": [
    "# quero no máximo 100 nulos por coluna:\n",
    "thresh = 13480 # thresh = Registros não nulos \n",
    "data_clean_col_with_many_null = data.dropna(axis = 1, \n",
    "                                            thresh = thresh\n",
    "                                           )\n",
    "print(data.shape)\n",
    "print(data_clean_col_with_many_null.shape)"
   ]
  },
  {
   "cell_type": "markdown",
   "metadata": {
    "id": "X7pMIeMgxcRF"
   },
   "source": [
    "### Elimine todas as linhas que possuem um número de campos com valor (não nulo) menor que um limite (threshold) "
   ]
  },
  {
   "cell_type": "code",
   "execution_count": 26,
   "metadata": {
    "id": "qXNBp07-xcRF",
    "outputId": "69a198b9-b875-4fd4-a1b4-c57febb1203a"
   },
   "outputs": [
    {
     "name": "stdout",
     "output_type": "stream",
     "text": [
      "(13580, 21)\n",
      "(13550, 21)\n"
     ]
    }
   ],
   "source": [
    "# quero um máximo de 3 colunas nulas por registro:\n",
    "thresh = 18\n",
    "data_clean_row_with_many_null = data.dropna(axis = 0, \n",
    "                                            thresh = thresh\n",
    "                                           )\n",
    "print(data.shape)\n",
    "print(data_clean_row_with_many_null.shape)"
   ]
  },
  {
   "cell_type": "code",
   "execution_count": null,
   "metadata": {},
   "outputs": [],
   "source": []
  },
  {
   "cell_type": "markdown",
   "metadata": {
    "id": "TWvFNZIHxcRG"
   },
   "source": [
    "## Imputação de valores ausentes\n",
    "\n",
    "### Método de imputação\n",
    "\n",
    "#### Imputação simples:\n",
    "\n",
    "Consiste em atribuir um valor a cada dado faltante da própria variável ou das demais variáveis para se chegar a um banco de dados completo.\n",
    "\n",
    "#### Imputação múltipla:\n",
    "\n",
    "Cada valor ausente é atribuído a um grupo de m valores, gerando m bancos de dados completos. Em cada uma das bases de dados m, os parâmetros de interesse são estimados e, em seguida, os resultados obtidos são combinados.\n",
    "\n",
    "#### Imputação pela média\n",
    "\n",
    "Você pode preencher os valores ausentes substituindo-os pela média da série ou pela média condicional em uma determinada categoria.\n",
    "\n",
    "Por exemplo, dado um valor de altura ausente para uma mulher, substitua-o pela média para mulheres.\n",
    "\n",
    "Essa abordagem tem vantagens e desvantagens:\n",
    "\n",
    "* Vantagens: É simples e, para algumas distribuições de dados, é muito provável que se aproxime do valor real dos dados ausentes\n",
    "* Desvantagens:\n",
    "Eu reduzo artificialmente a variabilidade e a aleatoriedade dos dados, o que pode me levar a conclusões erradas. Se houvesse correlação entre essa variável e outras, esse valor pode ser afetado.\n",
    "\n",
    "#### Imputação Hot Deck\n",
    "\n",
    "Consiste no preenchimento com um dado existente da amostra, seguindo alguns critérios. Eles podem ser aleatórios (um item é escolhido aleatoriamente), sequenciais (preenchidos com o valor imediatamente anterior ou posterior) ou vizinho mais próximo.\n",
    "\n",
    "#### Imputação por Regressão\n",
    "\n",
    "Modelos de regressão são usados para estimar os dados perdidos de outras variáveis no conjunto de dados.\n",
    "\n",
    "\n",
    "---"
   ]
  },
  {
   "cell_type": "markdown",
   "metadata": {
    "id": "MrMpetzAxcRG"
   },
   "source": [
    "A bibioteca `pandas` fornece métodos para imputação de valores ausentes.\n",
    "\n",
    "O método [`fillna()`](https://pandas.pydata.org/pandas-docs/stable/reference/api/pandas.DataFrame.fillna.html) permite vários tipos de imputação que podem ser especificados no parâmetro \"method\". Para mais informações acesse a documentação:\n",
    "\n",
    "* Preencher os dados com valores definidos fora do conjunto de dados (method = None). \n",
    "\n",
    "* Preencha os dados ausentes com o valor anterior ou seguinte (ideal para séries temporais) (method = ffill ou method = bfill)\n",
    "\n",
    "* Preencher pela média, modo ou mediana: data.fillna(data.mean())\n",
    "\n",
    "Vemos na documentação os valores que o parâmetro pode assumir `method`:\n",
    "\n",
    "pad / ffill: propagar a última observação válida, completando para a próxima observação válida\n",
    "\n",
    "backfill / bfill: use a seguinte observação válida para preencher os dados ausentes"
   ]
  },
  {
   "cell_type": "markdown",
   "metadata": {
    "id": "AcDSYle9xcRH"
   },
   "source": [
    "Acima vimos que os campos com dados ausentes são:\n",
    "* Car:                62\n",
    "* BuildingArea:     6450\n",
    "* YearBuilt:        5375\n",
    "* CouncilArea:      1369\n",
    "\n",
    "E vamos tentar imputar esses valores ausentes.\n",
    "\n",
    "Antes disso, vamos ver quais valores podemos encontrar nestas colunas e usar algumas das coisas que vimos nas práticas de estatística descritiva e probabilidade.\n",
    "\n",
    "Aqui está o código que usaremos para representar graficamente histogramas e distribuições:"
   ]
  },
  {
   "cell_type": "code",
   "execution_count": 27,
   "metadata": {},
   "outputs": [
    {
     "data": {
      "text/plain": [
       "Suburb              0\n",
       "Address             0\n",
       "Rooms               0\n",
       "Type                0\n",
       "Price               0\n",
       "Method              0\n",
       "SellerG             0\n",
       "Date                0\n",
       "Distance            0\n",
       "Postcode            0\n",
       "Bedroom2            0\n",
       "Bathroom            0\n",
       "Car                62\n",
       "Landsize            0\n",
       "BuildingArea     6450\n",
       "YearBuilt        5375\n",
       "CouncilArea      1369\n",
       "Lattitude           0\n",
       "Longtitude          0\n",
       "Regionname          0\n",
       "Propertycount       0\n",
       "dtype: int64"
      ]
     },
     "execution_count": 27,
     "metadata": {},
     "output_type": "execute_result"
    }
   ],
   "source": [
    "data.isna().sum()"
   ]
  },
  {
   "cell_type": "code",
   "execution_count": 50,
   "metadata": {
    "id": "JIfSnXKKxcRH"
   },
   "outputs": [],
   "source": [
    "import seaborn as sns\n",
    "def count_plotter(data, label, labelsize=12):    \n",
    "    sns.set(rc={\"figure.figsize\": (15, 8), \n",
    "                \"xtick.labelsize\": labelsize})\n",
    "    sns.set_style(\"white\")    \n",
    "    data_count = sns.countplot(x = data)\n",
    "    data_count.set_title('Histograma de ' + label + '\\n', \n",
    "                         fontsize = 16\n",
    "                        )\n",
    "\n",
    "    \n",
    "#def distribution_plotter(data, label, bins=None):    \n",
    "def distribution_plotter(data, label, bin_width = 500):    \n",
    "    \n",
    "    sns.set(rc = {\"figure.figsize\": (15, 8)})\n",
    "    sns.set_style(\"white\")    \n",
    "    #dist = sns.distplot(data, bins= bins, hist_kws={'alpha':0.2}, kde_kws={'linewidth':5})\n",
    "    dist = sns.histplot(data, \n",
    "                        stat = 'density', kde = True, \n",
    "                        line_kws = {'linewidth':5}, \n",
    "                        binwidth = bin_width\n",
    "                       )        \n",
    "    dist.set_title('Distribuição de ' + label + '\\n', \n",
    "                   fontsize = 16\n",
    "                  )    "
   ]
  },
  {
   "cell_type": "markdown",
   "metadata": {
    "id": "UM6peRn2xcRH"
   },
   "source": [
    "#### Car\n",
    "Vamos ver quais são os valores que aparecem na coluna Car:"
   ]
  },
  {
   "cell_type": "code",
   "execution_count": 31,
   "metadata": {
    "id": "Q46_-gSwxcRH",
    "outputId": "5d615e6c-ccff-485b-877c-2287680d78fa"
   },
   "outputs": [
    {
     "data": {
      "image/png": "[encoded data removed]",
      "text/plain": [
       "<Figure size 1080x576 with 1 Axes>"
      ]
     },
     "metadata": {},
     "output_type": "display_data"
    }
   ],
   "source": [
    "count_plotter(data.Car, \"Car\")"
   ]
  },
  {
   "cell_type": "markdown",
   "metadata": {
    "id": "FsVqe4KIxcRI"
   },
   "source": [
    "Mesmo resultado com o método `value_counts`:"
   ]
  },
  {
   "cell_type": "code",
   "execution_count": 35,
   "metadata": {},
   "outputs": [
    {
     "data": {
      "text/plain": [
       "Car\n",
       "2.0     5591\n",
       "1.0     5509\n",
       "0.0     1026\n",
       "3.0      748\n",
       "4.0      506\n",
       "5.0       63\n",
       "6.0       54\n",
       "8.0        9\n",
       "7.0        8\n",
       "10.0       3\n",
       "9.0        1\n",
       "Name: count, dtype: int64"
      ]
     },
     "execution_count": 35,
     "metadata": {},
     "output_type": "execute_result"
    }
   ],
   "source": [
    "data['Car'].value_counts()"
   ]
  },
  {
   "cell_type": "code",
   "execution_count": 32,
   "metadata": {
    "id": "X84V5kLExcRI",
    "outputId": "f09aa996-ff53-4373-958e-3da9c9b1a100"
   },
   "outputs": [
    {
     "data": {
      "text/plain": [
       "Car\n",
       "2.0     5591\n",
       "1.0     5509\n",
       "0.0     1026\n",
       "3.0      748\n",
       "4.0      506\n",
       "5.0       63\n",
       "6.0       54\n",
       "8.0        9\n",
       "7.0        8\n",
       "10.0       3\n",
       "9.0        1\n",
       "Name: count, dtype: int64"
      ]
     },
     "execution_count": 32,
     "metadata": {},
     "output_type": "execute_result"
    }
   ],
   "source": [
    "pd.value_counts(data.Car)"
   ]
  },
  {
   "cell_type": "markdown",
   "metadata": {
    "id": "w91UVo8wxcRI"
   },
   "source": [
    "Os valores mais prováveis para a coluna Car são 1 e 2.\n",
    "\n",
    "Imputando os valores ausentes deste campo de duas maneiras diferentes:\n",
    "* O primeiro, atribuímos 2 a todos os valores ausentes na coluna Car\n",
    "* O segundo, atribuímos 45% dos valores ausentes ao valor 1 e 2 para os valores restantes\n",
    "\n",
    "Verificando se foi feito corretamente."
   ]
  },
  {
   "cell_type": "markdown",
   "metadata": {
    "id": "Ab8XRc1SxcRI"
   },
   "source": [
    "##### Atribuímos 2 a todos os valores ausentes na coluna Car\n",
    "Contamos quantos valores iguais a 2 e quantos valores nulos existem em Car:"
   ]
  },
  {
   "cell_type": "code",
   "execution_count": 36,
   "metadata": {
    "id": "dPgr5P9rxcRI"
   },
   "outputs": [
    {
     "name": "stdout",
     "output_type": "stream",
     "text": [
      "5591\n",
      "---\n",
      "62\n"
     ]
    }
   ],
   "source": [
    "# cria a condição para verificar se cada valor é igual a 2\n",
    "data_car_2_mask = data.Car == 2\n",
    "\n",
    "# somamos a quantas vezes o valor 2 aparece nesta coluna\n",
    "data_car_2_count = data_car_2_mask.sum()\n",
    "print(data_car_2_count)\n",
    "print(\"---\")\n",
    "\n",
    "# verifica e soma os dados nulos na coluna Car\n",
    "data_car_null_mask = data.Car.isnull()\n",
    "data_car_null_count = data_car_null_mask.sum()\n",
    "print(data_car_null_count)"
   ]
  },
  {
   "cell_type": "markdown",
   "metadata": {
    "id": "Z5YQh4clxcRJ"
   },
   "source": [
    "E então preenchemos:"
   ]
  },
  {
   "cell_type": "code",
   "execution_count": 37,
   "metadata": {
    "id": "kL6AW9ktxcRJ"
   },
   "outputs": [],
   "source": [
    "data_car_2_fill = data.Car.fillna(2)\n",
    "# Inventamos uma nova coluna para não modificar os dados originais e \n",
    "# que nos servirá para o seguinte exercício sem reler os dados novamente:\n",
    "data[\"Car_fill\"] = data_car_2_fill"
   ]
  },
  {
   "cell_type": "markdown",
   "metadata": {
    "id": "h6wMO9dUxcRJ"
   },
   "source": [
    "Voltemos a contar:"
   ]
  },
  {
   "cell_type": "code",
   "execution_count": 38,
   "metadata": {
    "id": "x0Dp6bTyxcRJ"
   },
   "outputs": [
    {
     "name": "stdout",
     "output_type": "stream",
     "text": [
      "5653\n",
      "---\n",
      "0\n"
     ]
    }
   ],
   "source": [
    "data_car_2_mask = data.Car_fill == 2\n",
    "data_car_2_count = data_car_2_mask.sum()\n",
    "print(data_car_2_count)\n",
    "print(\"---\")\n",
    "data_car_null_mask = data.Car_fill.isnull()\n",
    "data_car_null_count = data_car_null_mask.sum()\n",
    "print(data_car_null_count)"
   ]
  },
  {
   "cell_type": "markdown",
   "metadata": {
    "id": "23rHgrE3xcRK"
   },
   "source": [
    "Deve haver 5591 + 62 = 5653, fizemos certo !! :)"
   ]
  },
  {
   "cell_type": "markdown",
   "metadata": {
    "id": "js0DdpWyxcRK"
   },
   "source": [
    "##### Atribuímos 45% dos valores ausentes ao valor 1 e 2 para os valores restantes\n",
    "\n",
    "Antes de começar, vamos contar quantos registros temos com um valor de carro que seja:\n",
    "\n",
    "* null\n",
    "* 1\n",
    "* 2"
   ]
  },
  {
   "cell_type": "code",
   "execution_count": 39,
   "metadata": {
    "id": "E5f4xIAZxcRK"
   },
   "outputs": [
    {
     "name": "stdout",
     "output_type": "stream",
     "text": [
      "62\n",
      "5509\n",
      "5591\n"
     ]
    }
   ],
   "source": [
    "# conta a quantidade de dados nulos\n",
    "cant_car_null = data.Car.isnull().sum()\n",
    "print(cant_car_null)\n",
    "\n",
    "# conta a quantidade de valores iguais a 1\n",
    "car_one_mask = data.Car == 1\n",
    "cant_car_1 = car_one_mask.sum()\n",
    "print(cant_car_1)\n",
    "\n",
    "# conta a quantidade de valores iguais a 2\n",
    "car_two_mask = data.Car == 2\n",
    "cant_car_2 = car_two_mask.sum()\n",
    "print(cant_car_2)\n"
   ]
  },
  {
   "cell_type": "code",
   "execution_count": 40,
   "metadata": {},
   "outputs": [
    {
     "name": "stdout",
     "output_type": "stream",
     "text": [
      "62\n"
     ]
    }
   ],
   "source": [
    "# registros que são nulos em Car:\n",
    "data_car_null_mask = data.Car.isnull()\n",
    "data_car_null = data.loc[data_car_null_mask, :]\n",
    "print(data_car_null.shape[0])"
   ]
  },
  {
   "cell_type": "code",
   "execution_count": 41,
   "metadata": {},
   "outputs": [],
   "source": [
    "# uma amostra de 45% dos registros calculados na etapa anterior:\n",
    "data_car_null_mask_sample_1 = data_car_null.sample(frac = 0.45)"
   ]
  },
  {
   "cell_type": "code",
   "execution_count": 42,
   "metadata": {},
   "outputs": [
    {
     "name": "stdout",
     "output_type": "stream",
     "text": [
      "28\n"
     ]
    }
   ],
   "source": [
    "# pega os incies da amostra anterior\n",
    "data_car_null_ones_index = data_car_null_mask_sample_1.index\n",
    "print(len(data_car_null_ones_index))"
   ]
  },
  {
   "cell_type": "code",
   "execution_count": 45,
   "metadata": {
    "id": "FMCBN5iKxcRK"
   },
   "outputs": [
    {
     "name": "stdout",
     "output_type": "stream",
     "text": [
      "34\n"
     ]
    }
   ],
   "source": [
    "# os que serão preenchidos com o valor 2 são todos aqueles que não foram selecionados na etapa anterior:\n",
    "data_car_null_twos_index = data_car_null.index.difference(data_car_null_ones_index)\n",
    "print(len(data_car_null_twos_index))\n"
   ]
  },
  {
   "cell_type": "markdown",
   "metadata": {
    "id": "CyKyXXFUxcRK"
   },
   "source": [
    "Agora que temos os índices que nos atendem, atribuímos os valores correspondentes aos registros selecionados:"
   ]
  },
  {
   "cell_type": "code",
   "execution_count": 46,
   "metadata": {
    "id": "fJhwv6wCxcRL"
   },
   "outputs": [],
   "source": [
    "data.loc[data_car_null_ones_index, \"Car\"] = 1\n",
    "data.loc[data_car_null_twos_index, \"Car\"] = 2"
   ]
  },
  {
   "cell_type": "markdown",
   "metadata": {
    "id": "LONg9Pa2xcRL"
   },
   "source": [
    "Inicialmente tínhamos:\n",
    "* 62 valores nulos, dos quais 28 assumiram o valor 1 e 34 assumiram o valor 2;\n",
    "* 5509 registros com valor 1;\n",
    "* 5591 registros com valor 2\n",
    "\n",
    "Devemos agora ter:\n",
    "* 0 valores nulos;\n",
    "* 5509 + 28 = 5537 registros com valor 1;\n",
    "* 5591 + 34 = 5625 registros com valor 2\n",
    "\n",
    "Vamos contar novamente quantos valores ausentes temos agora, de modo a verificar se fizemos as coisas certas:"
   ]
  },
  {
   "cell_type": "code",
   "execution_count": 47,
   "metadata": {
    "id": "ZJmL0dRmxcRL"
   },
   "outputs": [
    {
     "name": "stdout",
     "output_type": "stream",
     "text": [
      "0\n",
      "5537\n",
      "5625\n"
     ]
    }
   ],
   "source": [
    "cant_car_null = data.Car.isnull().sum()\n",
    "print(cant_car_null)\n",
    "\n",
    "car_one_mask = data.Car == 1\n",
    "cant_car_1 = car_one_mask.sum()\n",
    "print(cant_car_1)\n",
    "\n",
    "car_two_mask = data.Car == 2\n",
    "cant_car_2 = car_two_mask.sum()\n",
    "print(cant_car_2)\n"
   ]
  },
  {
   "cell_type": "code",
   "execution_count": null,
   "metadata": {},
   "outputs": [],
   "source": []
  },
  {
   "cell_type": "markdown",
   "metadata": {
    "id": "yYgINe6zxcRM"
   },
   "source": [
    "#### BuildingArea\n",
    "\n",
    "Vemos que este campo tem uma alta proporção de dados nulos (6450/13580 que é de aproximadamente 48%)."
   ]
  },
  {
   "cell_type": "markdown",
   "metadata": {
    "id": "lQEzK67vxcRN"
   },
   "source": [
    "Vemos que há muitos outliers, mas qual a forma da distribuição se ficarmos apenas com valores menores que 1000?\n",
    "\n",
    "Para verificar isto usemos indexação booleana:"
   ]
  },
  {
   "cell_type": "code",
   "execution_count": 56,
   "metadata": {},
   "outputs": [],
   "source": [
    "data_building_area_lt_1000_mask = data.BuildingArea < 1000\n",
    "data_building_area_lt_1000 = data.loc[data_building_area_lt_1000_mask, : ]"
   ]
  },
  {
   "cell_type": "code",
   "execution_count": 64,
   "metadata": {
    "id": "-5TJ9yqqxcRN"
   },
   "outputs": [
    {
     "name": "stdout",
     "output_type": "stream",
     "text": [
      "Média da coluna 143.32860765234483\n",
      "Quantidade de linhas e colunas (7122, 22)\n",
      "Mediana 126.0\n",
      "Desvio Padrão 83.01166687168487\n",
      "----\n",
      "Medidas estatísticas para a coluna como um todo\n",
      "----\n",
      "Média 151.96764988779805\n",
      "Quantidade de linhas e colunas (13580, 22)\n",
      "Mediana 126.0\n",
      "Desvio Padrão 541.0145376263513\n"
     ]
    }
   ],
   "source": [
    "# vamos verificar alguma estatísticas descritivas da seleção booleana que fizemos\n",
    "# imprime a média da coluna\n",
    "print(\"Média da coluna\",data_building_area_lt_1000.BuildingArea.mean())\n",
    "# mostra a quantidade de linhas e colunas\n",
    "print(\"Quantidade de linhas e colunas\", data_building_area_lt_1000.shape)\n",
    "# imprime a mediana\n",
    "print(\"Mediana\", data_building_area_lt_1000.BuildingArea.median())\n",
    "# imprime o desvio padrão\n",
    "print(\"Desvio Padrão\",data_building_area_lt_1000.BuildingArea.std())\n",
    "print(\"----\")\n",
    "print(\"Medidas estatísticas para a coluna como um todo\")\n",
    "print(\"----\")\n",
    "# agora para a coluna como um todo, vamos checar as mesmas medidas estatísticas\n",
    "# média\n",
    "print(\"Média\",data.BuildingArea.mean())\n",
    "# quantidade de linhas e colunas\n",
    "print(\"Quantidade de linhas e colunas\",data.shape)\n",
    "# mediana\n",
    "print(\"Mediana\",data.BuildingArea.median())\n",
    "# desvio padrão\n",
    "print(\"Desvio Padrão\",data.BuildingArea.std())"
   ]
  },
  {
   "cell_type": "code",
   "execution_count": 65,
   "metadata": {
    "id": "9COPb_rtxcRN"
   },
   "outputs": [
    {
     "data": {
      "text/plain": [
       "47.49631811487481"
      ]
     },
     "execution_count": 65,
     "metadata": {},
     "output_type": "execute_result"
    }
   ],
   "source": [
    "# Cálculo do percentual de vazios\n",
    "(data.BuildingArea.isnull().sum() / data.shape[0]) * 100"
   ]
  },
  {
   "cell_type": "markdown",
   "metadata": {
    "id": "5nqQE6FYxcRN"
   },
   "source": [
    "Podemos pensar em imputar os valores ausentes com o valor da média ou mediana do conjunto de dados completo ou do conjunto de dados reduzido que usamos no último gráfico, mas a proporção de dados nulos é muito alta nesse campo e intervalo de variação dos valores é muito amplo para considerar essa possibilidade como algo útil. Portanto, vamos remover essa coluna.\n",
    "\n",
    "Antes de passar para a próxima coluna, vamos ver como os valores que calculamos acima mudariam se imputássemos os valores ausentes desse campo com a média:"
   ]
  },
  {
   "cell_type": "code",
   "execution_count": 66,
   "metadata": {
    "id": "rMy6dn6axcRN"
   },
   "outputs": [
    {
     "name": "stdout",
     "output_type": "stream",
     "text": [
      "151.96764988779805\n",
      "(13580, 22)\n",
      "151.96764988779805\n",
      "392.0029618346695\n"
     ]
    }
   ],
   "source": [
    "media = data.BuildingArea.mean()\n",
    "\n",
    "data_fill = data.BuildingArea.fillna(media)\n",
    "\n",
    "#piso los datos originales:\n",
    "data.BuildingArea = data_fill\n",
    "\n",
    "print(data.BuildingArea.mean())\n",
    "print(data.shape)\n",
    "print(data.BuildingArea.median())\n",
    "print(data.BuildingArea.std())"
   ]
  },
  {
   "cell_type": "markdown",
   "metadata": {
    "id": "NitBVrysxcRO"
   },
   "source": [
    "E a gente vê então que modificamos muito a dispersão desses dados, de forma que não representa a natureza inicial desses dados."
   ]
  },
  {
   "cell_type": "markdown",
   "metadata": {
    "id": "6SHx-M75xcRO"
   },
   "source": [
    "#### YearBuilt"
   ]
  },
  {
   "cell_type": "code",
   "execution_count": 72,
   "metadata": {},
   "outputs": [
    {
     "data": {
      "text/plain": [
       "39.58026509572901"
      ]
     },
     "execution_count": 72,
     "metadata": {},
     "output_type": "execute_result"
    }
   ],
   "source": [
    "# Cálculo do percentual de vazios\n",
    "(data.YearBuilt.isnull().sum() / data.shape[0]) * 100"
   ]
  },
  {
   "cell_type": "code",
   "execution_count": 71,
   "metadata": {
    "id": "JZp-iRsIxcRO"
   },
   "outputs": [
    {
     "data": {
      "image/png": "[encoded data removed]",
      "text/plain": [
       "<Figure size 1080x576 with 1 Axes>"
      ]
     },
     "metadata": {},
     "output_type": "display_data"
    }
   ],
   "source": [
    "count_plotter(data.YearBuilt, \"YearBuilt\", 0)"
   ]
  },
  {
   "cell_type": "code",
   "execution_count": 73,
   "metadata": {},
   "outputs": [
    {
     "data": {
      "text/plain": [
       "YearBuilt\n",
       "1970.0    866\n",
       "1960.0    725\n",
       "1950.0    580\n",
       "1900.0    341\n",
       "1980.0    338\n",
       "         ... \n",
       "1897.0      1\n",
       "1933.0      1\n",
       "1830.0      1\n",
       "1901.0      1\n",
       "1857.0      1\n",
       "Name: count, Length: 144, dtype: int64"
      ]
     },
     "execution_count": 73,
     "metadata": {},
     "output_type": "execute_result"
    }
   ],
   "source": [
    "data['YearBuilt'].value_counts()"
   ]
  },
  {
   "cell_type": "markdown",
   "metadata": {
    "id": "6fXKL0E9xcRO"
   },
   "source": [
    "Este caso é muito parecido com o anterior, um alto percentual de nulos e muita dispersão nos valores, portanto não vamos preencher os dados faltantes nessa coluna."
   ]
  },
  {
   "cell_type": "code",
   "execution_count": 67,
   "metadata": {
    "id": "hnFxZ27excRO"
   },
   "outputs": [
    {
     "data": {
      "image/png": "[encoded data removed]",
      "text/plain": [
       "<Figure size 1080x576 with 1 Axes>"
      ]
     },
     "metadata": {},
     "output_type": "display_data"
    }
   ],
   "source": [
    "count_plotter(data.CouncilArea, \"CouncilArea\", 0)"
   ]
  },
  {
   "cell_type": "code",
   "execution_count": 68,
   "metadata": {
    "id": "eij35_IxxcRO"
   },
   "outputs": [
    {
     "data": {
      "text/plain": [
       "CouncilArea\n",
       "Moreland             1163\n",
       "Boroondara           1160\n",
       "Moonee Valley         997\n",
       "Darebin               934\n",
       "Glen Eira             848\n",
       "Stonnington           719\n",
       "Maribyrnong           692\n",
       "Yarra                 647\n",
       "Port Phillip          628\n",
       "Banyule               594\n",
       "Bayside               489\n",
       "Melbourne             470\n",
       "Hobsons Bay           434\n",
       "Brimbank              424\n",
       "Monash                333\n",
       "Manningham            311\n",
       "Whitehorse            304\n",
       "Kingston              207\n",
       "Whittlesea            167\n",
       "Hume                  164\n",
       "Wyndham                86\n",
       "Knox                   80\n",
       "Maroondah              80\n",
       "Melton                 66\n",
       "Frankston              53\n",
       "Greater Dandenong      52\n",
       "Casey                  38\n",
       "Nillumbik              36\n",
       "Yarra Ranges           18\n",
       "Cardinia                8\n",
       "Macedon Ranges          7\n",
       "Unavailable             1\n",
       "Moorabool               1\n",
       "Name: count, dtype: int64"
      ]
     },
     "execution_count": 68,
     "metadata": {},
     "output_type": "execute_result"
    }
   ],
   "source": [
    "pd.value_counts(data.CouncilArea)"
   ]
  },
  {
   "cell_type": "code",
   "execution_count": 74,
   "metadata": {},
   "outputs": [
    {
     "data": {
      "text/plain": [
       "10.08100147275405"
      ]
     },
     "execution_count": 74,
     "metadata": {},
     "output_type": "execute_result"
    }
   ],
   "source": [
    "# Cálculo do percentual de vazios\n",
    "(data.CouncilArea.isnull().sum() / data.shape[0]) * 100"
   ]
  },
  {
   "cell_type": "code",
   "execution_count": null,
   "metadata": {},
   "outputs": [],
   "source": []
  }
 ],
 "metadata": {
  "colab": {
   "provenance": []
  },
  "kernelspec": {
   "display_name": "Python 3 (ipykernel)",
   "language": "python",
   "name": "python3"
  },
  "language_info": {
   "codemirror_mode": {
    "name": "ipython",
    "version": 3
   },
   "file_extension": ".py",
   "mimetype": "text/x-python",
   "name": "python",
   "nbconvert_exporter": "python",
   "pygments_lexer": "ipython3",
   "version": "3.9.12"
  }
 },
 "nbformat": 4,
 "nbformat_minor": 1
}
