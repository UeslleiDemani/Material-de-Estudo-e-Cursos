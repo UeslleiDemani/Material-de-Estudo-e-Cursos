{
 "cells": [
  {
   "cell_type": "markdown",
   "metadata": {},
   "source": [
    "<img src='../../../common/DH_LOGO.jpeg' align='left' width=100%/>"
   ]
  },
  {
   "cell_type": "code",
   "execution_count": null,
   "metadata": {},
   "outputs": [],
   "source": [
    "# initial setup\n",
    "#%run \"../../../common/0_notebooks_base_setup.py\""
   ]
  },
  {
   "cell_type": "markdown",
   "metadata": {},
   "source": [
    "# DHDSPaDM2A12 - Prática Guiada: Data Wrangling."
   ]
  },
  {
   "cell_type": "markdown",
   "metadata": {},
   "source": [
    "## Intro\n",
    "\n",
    "### Definições\n",
    "\n",
    "**Data Wrangling**:\n",
    "\n",
    "Processo de limpeza e unificação de conjuntos de dados desorganizados e complexos para facilitar seu acesso, exploração, análise ou modelagem subsequente.\n",
    "\n",
    "**Data munging**:\n",
    "\n",
    "Processo de limpeza, preparação e validação dos dados.\n",
    "\n",
    "**Extract, Transform and Load (ETL)**:\n",
    "\n",
    "Faz extração, transforma e carrega os dados.\n",
    "\n",
    "**Exploratory data analysis (EDA)**:\n",
    "\n",
    "Resume as principais características de um conjunto de dados, geralmente com métodos visuais, sem usar um modelo estatístico ou de aprendizado de máquina.\n",
    "\n",
    "### Tipos de variáveis\n",
    "\n",
    "As variáveis podem ser caracterizadas como:\n",
    "\n",
    "* **Quantitativas**: \n",
    "\n",
    "$\\hspace{.5cm}$ assumem valores numéricos, como no caso da renda de uma pessoa ou do preço de uma casa.  \n",
    "\n",
    "* **Qualitativas**: \n",
    "\n",
    "$\\hspace{.5cm}$ assumem valores em uma das K diferentes classes ou categorias.\n",
    "\n",
    "$\\hspace{.5cm}$ Variáveis qualitativas com dois valores possíveis são chamadas de binárias ou dicotômicas.\n",
    "\n",
    "$\\hspace{.5cm}$ Tipos de variáveis categóricas:\n",
    "\n",
    "$\\hspace{.5cm}$ **Nominal/Categórica**:\n",
    "\n",
    "$\\hspace{.5cm}$ tomar valores entre categorias nomeadas.\n",
    "\n",
    "$\\hspace{.5cm}$ Valores numéricos ou rótulos são geralmente atribuídos a variáveis categóricas: estado civil, 0 se solteiro e 1 se casado e 2 se divorciado. Os números usados para rotulagem são arbitrários. Em geral, o software assume que os valores numéricos refletem quantidades algébricas.\n",
    "\n",
    "$\\hspace{.5cm}$ A principal medida de posição é a moda.\n",
    "\n",
    "$\\hspace{.5cm}$ A mediana e a média não são definidas (e, em geral, quaisquer operações numéricas também não são definidas).\n",
    "\n",
    "$\\hspace{.5cm}$ **Ordinal**:\n",
    "\n",
    "$\\hspace{.5cm}$ É uma variável categórica com uma ordem definida.\n",
    "\n",
    "Um exemplo pode ser a variável age_range, que assume os valores \"criança\", \"adolescente\", \"adulto\", \"adulto mais velho\" onde existe uma ordem definida, qual seja: \"criança\" < \"adolescente\" <\"adulto\" < \"adulto mais velho\".\n",
    "\n",
    "\n",
    "* **Dummy** \n",
    "\n",
    "$\\hspace{.5cm}$ são variáveis qualitativas que assumem valores 0 ou 1 para indicar a ausência ou presença de algum atributo ou efeito categórico.\n",
    "\n",
    "$\\hspace{.5cm}$ Formalmente, uma variável fictícia pode ser expressa por uma função indicadora:\n",
    "\n",
    "$$\n",
    "\\begin{equation}\n",
    "  D_i = \\mathbb{I}_A(x_i) = \\begin{cases} \n",
    "    1, & \\text{se $x_{i} \\in$ A}\\\\  \n",
    "    0, & \\text{se $x_{i} \\notin $ A}.\n",
    "  \\end{cases}\n",
    "\\end{equation}\n",
    "$$\n",
    "\n",
    "$\\hspace{.5cm}$**Qual é a relação entre variáveis categóricas e variáveis dummy?**\n",
    "\n",
    "Uma variável categórica com $N$ categorias pode ser expressa em termos de $N - 1$ variáveis fictícias (codificação one-hot).\n",
    "\n",
    "Resolve o problema de interpretação de rótulos de números como um intervalo.\n",
    "\n",
    "Se as categorias tiverem muitos valores, a dimensionalidade dos dados aumenta consideravelmente.\n",
    "\n"
   ]
  },
  {
   "cell_type": "markdown",
   "metadata": {},
   "source": [
    "## Dataset\n",
    "\n",
    "\n",
    "O conjunto de dados [Honeybees and Neonic Pesticides](https://www.kaggle.com/kevinzmith/honey-with-neonic-pesticide) é inspirado na produção de mel nos Estados Unidos. Ele cobre o período de $1998 - 2017$.\n",
    "\n",
    "Inclui dados do USGS National Pesticide Synthesis Project, que permite avaliar as conexões estatísticas entre a produção de mel e o uso de pesticidas neonicotinóides (neônicos).\n",
    "\n",
    "Os dados mostram alguns fatos interessantes:\n",
    "\n",
    "* O uso de neônicos nos Estados Unidos começou por volta de $2003$, mas o declínio na produção de mel começou nos anos anteriores.\n",
    "* Alguns estados, como Kansas, viram a devastação de colônias de abelhas a partir de $2003$, quando o uso de neônicos estava apenas começando.\n",
    "* Outros estados, como Dakota do Norte, têm um número quase estável de colônias de abelhas, apesar do aumento do uso de neônicos\n",
    "\n",
    "Os campos deste conjunto de dados são:\n",
    "\n",
    "* numcol: número de colônias produtoras de mel. As colônias produtoras de mel são o número máximo de colônias das quais o mel foi extraído durante o ano. É possível retirar mel de colônias que não sobreviveram ao longo do ano.\n",
    "\n",
    "* yieldpercol: produção de mel por colônia. A unidade é libras\n",
    "\n",
    "* totalprod: produção total (numcol x yieldpercol). A unidade é libras\n",
    "\n",
    "* estoques: Refere-se aos estoques dos produtores. A unidade é libras\n",
    "\n",
    "* priceperlb: Refere-se ao preço médio por libra com base nas vendas estendidas. A unidade é dólares.\n",
    "\n",
    "* prodvalue: Valor de produção (totalprod x priceperlb). A unidade é dólares.\n",
    "\n",
    "De USGS Data:\n",
    "\n",
    "* `nCLOTHIANIDIN`: A quantidade em kg de `CLOTHIANIDIN` aplicada\n",
    "\n",
    "* `nIMIDACLOPRID`: A quantidade em kg de `IMIDACLOPRID` aplicada\n",
    "\n",
    "* `nTHIAMETHOXAM`: A quantidade em kg de `THIAMETHOXAM` aplicada\n",
    "\n",
    "* `nACETAMIPRID`: A quantidade em kg de `ACETAMIPRID` aplicado\n",
    "\n",
    "* `nTHIACLOPRID`: A quantidade em kg de `THIACLOPRID` aplicada\n",
    "\n",
    "* `nAllNeonic`: A quantidade em kg de todos os Neonics aplicados = (`nCLOTHIANIDIN` + `nIMIDACLOPRID` + `nTHIAMETHOXAM` + `nACETAMIPRID` + `nTHIACLOPRID`)"
   ]
  },
  {
   "cell_type": "markdown",
   "metadata": {},
   "source": [
    "## Problema\n",
    "\n",
    "Usaremos dados de produção de mel dos Estados Unidos para apresentar e exercitar métodos amplamente usados de pandas em tarefas de preparação de dados."
   ]
  },
  {
   "cell_type": "markdown",
   "metadata": {},
   "source": [
    "## Imports"
   ]
  },
  {
   "cell_type": "code",
   "execution_count": 1,
   "metadata": {},
   "outputs": [],
   "source": [
    "import pandas as pd\n",
    "import numpy as np"
   ]
  },
  {
   "cell_type": "markdown",
   "metadata": {},
   "source": [
    "Lemos os dados, vemos quais são os tipos das colunas e mostramos os primeiros registros do DataFrame para verificar se carregamos os dados corretamente."
   ]
  },
  {
   "cell_type": "code",
   "execution_count": 8,
   "metadata": {},
   "outputs": [
    {
     "data": {
      "text/html": [
       "<div>\n",
       "<style scoped>\n",
       "    .dataframe tbody tr th:only-of-type {\n",
       "        vertical-align: middle;\n",
       "    }\n",
       "\n",
       "    .dataframe tbody tr th {\n",
       "        vertical-align: top;\n",
       "    }\n",
       "\n",
       "    .dataframe thead th {\n",
       "        text-align: right;\n",
       "    }\n",
       "</style>\n",
       "<table border=\"1\" class=\"dataframe\">\n",
       "  <thead>\n",
       "    <tr style=\"text-align: right;\">\n",
       "      <th></th>\n",
       "      <th>state</th>\n",
       "      <th>numcol</th>\n",
       "      <th>yieldpercol</th>\n",
       "      <th>totalprod</th>\n",
       "      <th>stocks</th>\n",
       "      <th>priceperlb</th>\n",
       "      <th>prodvalue</th>\n",
       "      <th>year</th>\n",
       "      <th>StateName</th>\n",
       "      <th>Region</th>\n",
       "      <th>nCLOTHIANIDIN</th>\n",
       "      <th>nIMIDACLOPRID</th>\n",
       "      <th>nTHIAMETHOXAM</th>\n",
       "      <th>nACETAMIPRID</th>\n",
       "      <th>nTHIACLOPRID</th>\n",
       "      <th>nAllNeonic</th>\n",
       "    </tr>\n",
       "  </thead>\n",
       "  <tbody>\n",
       "    <tr>\n",
       "      <th>0</th>\n",
       "      <td>AL</td>\n",
       "      <td>11000.0</td>\n",
       "      <td>56</td>\n",
       "      <td>616000.0</td>\n",
       "      <td>209000.0</td>\n",
       "      <td>1.49</td>\n",
       "      <td>918000.0</td>\n",
       "      <td>2007</td>\n",
       "      <td>Alabama</td>\n",
       "      <td>South</td>\n",
       "      <td>7696.2</td>\n",
       "      <td>3258.1</td>\n",
       "      <td>4149.6</td>\n",
       "      <td>0.0</td>\n",
       "      <td>0.0</td>\n",
       "      <td>15103.9</td>\n",
       "    </tr>\n",
       "    <tr>\n",
       "      <th>1</th>\n",
       "      <td>AL</td>\n",
       "      <td>11000.0</td>\n",
       "      <td>72</td>\n",
       "      <td>792000.0</td>\n",
       "      <td>230000.0</td>\n",
       "      <td>1.21</td>\n",
       "      <td>958000.0</td>\n",
       "      <td>2006</td>\n",
       "      <td>Alabama</td>\n",
       "      <td>South</td>\n",
       "      <td>680.0</td>\n",
       "      <td>4230.2</td>\n",
       "      <td>5371.6</td>\n",
       "      <td>0.0</td>\n",
       "      <td>0.0</td>\n",
       "      <td>10281.8</td>\n",
       "    </tr>\n",
       "    <tr>\n",
       "      <th>2</th>\n",
       "      <td>AL</td>\n",
       "      <td>12000.0</td>\n",
       "      <td>86</td>\n",
       "      <td>1032000.0</td>\n",
       "      <td>103000.0</td>\n",
       "      <td>1.18</td>\n",
       "      <td>1218000.0</td>\n",
       "      <td>2002</td>\n",
       "      <td>Alabama</td>\n",
       "      <td>South</td>\n",
       "      <td>0.0</td>\n",
       "      <td>1178.8</td>\n",
       "      <td>840.4</td>\n",
       "      <td>0.0</td>\n",
       "      <td>0.0</td>\n",
       "      <td>2019.2</td>\n",
       "    </tr>\n",
       "    <tr>\n",
       "      <th>3</th>\n",
       "      <td>AL</td>\n",
       "      <td>12000.0</td>\n",
       "      <td>87</td>\n",
       "      <td>1044000.0</td>\n",
       "      <td>282000.0</td>\n",
       "      <td>1.41</td>\n",
       "      <td>1472000.0</td>\n",
       "      <td>2004</td>\n",
       "      <td>Alabama</td>\n",
       "      <td>South</td>\n",
       "      <td>2676.4</td>\n",
       "      <td>1323.9</td>\n",
       "      <td>3863.9</td>\n",
       "      <td>0.0</td>\n",
       "      <td>0.0</td>\n",
       "      <td>7864.2</td>\n",
       "    </tr>\n",
       "    <tr>\n",
       "      <th>4</th>\n",
       "      <td>AL</td>\n",
       "      <td>13000.0</td>\n",
       "      <td>66</td>\n",
       "      <td>858000.0</td>\n",
       "      <td>266000.0</td>\n",
       "      <td>1.02</td>\n",
       "      <td>875000.0</td>\n",
       "      <td>2005</td>\n",
       "      <td>Alabama</td>\n",
       "      <td>South</td>\n",
       "      <td>1503.6</td>\n",
       "      <td>994.5</td>\n",
       "      <td>5493.9</td>\n",
       "      <td>0.0</td>\n",
       "      <td>0.0</td>\n",
       "      <td>7992.0</td>\n",
       "    </tr>\n",
       "  </tbody>\n",
       "</table>\n",
       "</div>"
      ],
      "text/plain": [
       "  state   numcol  yieldpercol  totalprod    stocks  priceperlb  prodvalue   \n",
       "0    AL  11000.0           56   616000.0  209000.0        1.49   918000.0  \\\n",
       "1    AL  11000.0           72   792000.0  230000.0        1.21   958000.0   \n",
       "2    AL  12000.0           86  1032000.0  103000.0        1.18  1218000.0   \n",
       "3    AL  12000.0           87  1044000.0  282000.0        1.41  1472000.0   \n",
       "4    AL  13000.0           66   858000.0  266000.0        1.02   875000.0   \n",
       "\n",
       "   year StateName Region  nCLOTHIANIDIN  nIMIDACLOPRID  nTHIAMETHOXAM   \n",
       "0  2007   Alabama  South         7696.2         3258.1         4149.6  \\\n",
       "1  2006   Alabama  South          680.0         4230.2         5371.6   \n",
       "2  2002   Alabama  South            0.0         1178.8          840.4   \n",
       "3  2004   Alabama  South         2676.4         1323.9         3863.9   \n",
       "4  2005   Alabama  South         1503.6          994.5         5493.9   \n",
       "\n",
       "   nACETAMIPRID  nTHIACLOPRID  nAllNeonic  \n",
       "0           0.0           0.0     15103.9  \n",
       "1           0.0           0.0     10281.8  \n",
       "2           0.0           0.0      2019.2  \n",
       "3           0.0           0.0      7864.2  \n",
       "4           0.0           0.0      7992.0  "
      ]
     },
     "metadata": {},
     "output_type": "display_data"
    },
    {
     "name": "stdout",
     "output_type": "stream",
     "text": [
      "state             object\n",
      "numcol           float64\n",
      "yieldpercol        int64\n",
      "totalprod        float64\n",
      "stocks           float64\n",
      "priceperlb       float64\n",
      "prodvalue        float64\n",
      "year               int64\n",
      "StateName         object\n",
      "Region            object\n",
      "nCLOTHIANIDIN    float64\n",
      "nIMIDACLOPRID    float64\n",
      "nTHIAMETHOXAM    float64\n",
      "nACETAMIPRID     float64\n",
      "nTHIACLOPRID     float64\n",
      "nAllNeonic       float64\n",
      "dtype: object\n"
     ]
    }
   ],
   "source": [
    "data_location = \"../DataWrangling/data/vHoneyNeonic_v02.csv\"\n",
    "data = pd.read_csv(data_location, sep = \",\")\n",
    "display(data.head())\n",
    "print(data.dtypes)\n"
   ]
  },
  {
   "cell_type": "markdown",
   "metadata": {},
   "source": [
    "Construímos um novo DataFrame que contém as informações associadas aos diferentes estados dos EUA."
   ]
  },
  {
   "cell_type": "code",
   "execution_count": 17,
   "metadata": {},
   "outputs": [
    {
     "data": {
      "text/html": [
       "<div>\n",
       "<style scoped>\n",
       "    .dataframe tbody tr th:only-of-type {\n",
       "        vertical-align: middle;\n",
       "    }\n",
       "\n",
       "    .dataframe tbody tr th {\n",
       "        vertical-align: top;\n",
       "    }\n",
       "\n",
       "    .dataframe thead th {\n",
       "        text-align: right;\n",
       "    }\n",
       "</style>\n",
       "<table border=\"1\" class=\"dataframe\">\n",
       "  <thead>\n",
       "    <tr style=\"text-align: right;\">\n",
       "      <th></th>\n",
       "      <th>state</th>\n",
       "      <th>StateName</th>\n",
       "      <th>Region</th>\n",
       "    </tr>\n",
       "  </thead>\n",
       "  <tbody>\n",
       "    <tr>\n",
       "      <th>0</th>\n",
       "      <td>AL</td>\n",
       "      <td>Alabama</td>\n",
       "      <td>South</td>\n",
       "    </tr>\n",
       "    <tr>\n",
       "      <th>1</th>\n",
       "      <td>AL</td>\n",
       "      <td>Alabama</td>\n",
       "      <td>South</td>\n",
       "    </tr>\n",
       "    <tr>\n",
       "      <th>2</th>\n",
       "      <td>AL</td>\n",
       "      <td>Alabama</td>\n",
       "      <td>South</td>\n",
       "    </tr>\n",
       "    <tr>\n",
       "      <th>3</th>\n",
       "      <td>AL</td>\n",
       "      <td>Alabama</td>\n",
       "      <td>South</td>\n",
       "    </tr>\n",
       "    <tr>\n",
       "      <th>4</th>\n",
       "      <td>AL</td>\n",
       "      <td>Alabama</td>\n",
       "      <td>South</td>\n",
       "    </tr>\n",
       "  </tbody>\n",
       "</table>\n",
       "</div>"
      ],
      "text/plain": [
       "  state StateName Region\n",
       "0    AL   Alabama  South\n",
       "1    AL   Alabama  South\n",
       "2    AL   Alabama  South\n",
       "3    AL   Alabama  South\n",
       "4    AL   Alabama  South"
      ]
     },
     "execution_count": 17,
     "metadata": {},
     "output_type": "execute_result"
    }
   ],
   "source": [
    "data_state = data.loc[:, [\"state\", \"StateName\", \"Region\"]]\n",
    "data_state.head()"
   ]
  },
  {
   "cell_type": "code",
   "execution_count": 14,
   "metadata": {},
   "outputs": [
    {
     "data": {
      "text/plain": [
       "pandas.core.frame.DataFrame"
      ]
     },
     "execution_count": 14,
     "metadata": {},
     "output_type": "execute_result"
    }
   ],
   "source": [
    "type(data_state)"
   ]
  },
  {
   "cell_type": "markdown",
   "metadata": {},
   "source": [
    "## Eliminação de duplicatas\n",
    "\n",
    "Para determinar se um DataFrame possui registros duplicados, devemos primeiro **definir em quais campos os valores dos registros devem corresponder para serem considerados iguais**.\n",
    "\n",
    "O método pandas [`pandas.DataFrame.duplicated()`](https://pandas.pydata.org/pandas-docs/stable/reference/api/pandas.DataFrame.duplicated.html) permite definir no argumento do`subset` uma lista de colunas para avaliar quando queremos determinar se dois registros são duplicados. Se não definirmos o valor deste argumento, apenas os registros cujos valores correspondem em todos os campos serão duplicados.\n",
    "\n",
    "O método pandas [`pandas.DataFrame.drop_duplicates()`](https://pandas.pydata.org/pandas-docs/stable/reference/api/pandas.DataFrame.drop_duplicates.html) retorna um novo DataFrame sem registros duplicados. Os argumentos` subconjunto` e `keep` têm o mesmo comportamento que em` duplicated`."
   ]
  },
  {
   "cell_type": "markdown",
   "metadata": {},
   "source": [
    "Vamos ver se temos registros duplicados de duas maneiras diferentes:\n",
    "* Avaliando data\n",
    "* Avaliando data_state\n",
    "\n",
    "Vamos criar outro DataFrame sem registros duplicados."
   ]
  },
  {
   "cell_type": "code",
   "execution_count": 18,
   "metadata": {},
   "outputs": [
    {
     "name": "stdout",
     "output_type": "stream",
     "text": [
      "registros duplicados em data_state:  True\n",
      "quantidade de registros duplicados em data_state:  781\n"
     ]
    }
   ],
   "source": [
    "# avaliando data_state\n",
    "data_state_duplicates_mask = data_state.duplicated(keep = \"first\")\n",
    "print(\"registros duplicados em data_state: \", any(data_state_duplicates_mask)) #\n",
    "print(\"quantidade de registros duplicados em data_state: \", data_state_duplicates_mask.sum())"
   ]
  },
  {
   "cell_type": "code",
   "execution_count": 19,
   "metadata": {},
   "outputs": [
    {
     "name": "stdout",
     "output_type": "stream",
     "text": [
      "registros duplicados em data (considerando os dados do estado):  True\n",
      "quantidade de registros duplicados em data (considerando os dados do estado):  781\n"
     ]
    }
   ],
   "source": [
    "# avaliando data\n",
    "data_duplicates_statefields =  data.duplicated(subset = [\"state\", \"StateName\", \"Region\"], \n",
    "                                               keep = \"first\"\n",
    "                                              )\n",
    "print(\"registros duplicados em data (considerando os dados do estado): \", any(data_duplicates_statefields))\n",
    "print(\"quantidade de registros duplicados em data (considerando os dados do estado): \", data_duplicates_statefields.sum())\n"
   ]
  },
  {
   "cell_type": "code",
   "execution_count": 20,
   "metadata": {},
   "outputs": [
    {
     "name": "stdout",
     "output_type": "stream",
     "text": [
      "shape con duplicados:  (825, 3)\n",
      "shape sem duplicados:  (44, 3)\n"
     ]
    }
   ],
   "source": [
    "data_state_nodup = data_state.drop_duplicates(keep = \"first\")\n",
    "print(\"shape con duplicados: \", data_state.shape)\n",
    "print(\"shape sem duplicados: \", data_state_nodup.shape)"
   ]
  },
  {
   "cell_type": "code",
   "execution_count": 21,
   "metadata": {},
   "outputs": [
    {
     "data": {
      "text/html": [
       "<div>\n",
       "<style scoped>\n",
       "    .dataframe tbody tr th:only-of-type {\n",
       "        vertical-align: middle;\n",
       "    }\n",
       "\n",
       "    .dataframe tbody tr th {\n",
       "        vertical-align: top;\n",
       "    }\n",
       "\n",
       "    .dataframe thead th {\n",
       "        text-align: right;\n",
       "    }\n",
       "</style>\n",
       "<table border=\"1\" class=\"dataframe\">\n",
       "  <thead>\n",
       "    <tr style=\"text-align: right;\">\n",
       "      <th></th>\n",
       "      <th>state</th>\n",
       "      <th>StateName</th>\n",
       "      <th>Region</th>\n",
       "    </tr>\n",
       "  </thead>\n",
       "  <tbody>\n",
       "    <tr>\n",
       "      <th>0</th>\n",
       "      <td>AL</td>\n",
       "      <td>Alabama</td>\n",
       "      <td>South</td>\n",
       "    </tr>\n",
       "    <tr>\n",
       "      <th>20</th>\n",
       "      <td>AR</td>\n",
       "      <td>Arkansas</td>\n",
       "      <td>South</td>\n",
       "    </tr>\n",
       "    <tr>\n",
       "      <th>40</th>\n",
       "      <td>AZ</td>\n",
       "      <td>Arizona</td>\n",
       "      <td>West</td>\n",
       "    </tr>\n",
       "    <tr>\n",
       "      <th>60</th>\n",
       "      <td>CA</td>\n",
       "      <td>California</td>\n",
       "      <td>West</td>\n",
       "    </tr>\n",
       "    <tr>\n",
       "      <th>80</th>\n",
       "      <td>CO</td>\n",
       "      <td>Colorado</td>\n",
       "      <td>West</td>\n",
       "    </tr>\n",
       "    <tr>\n",
       "      <th>100</th>\n",
       "      <td>FL</td>\n",
       "      <td>Florida</td>\n",
       "      <td>South</td>\n",
       "    </tr>\n",
       "    <tr>\n",
       "      <th>120</th>\n",
       "      <td>GA</td>\n",
       "      <td>Georgia</td>\n",
       "      <td>South</td>\n",
       "    </tr>\n",
       "    <tr>\n",
       "      <th>140</th>\n",
       "      <td>HI</td>\n",
       "      <td>Hawaii</td>\n",
       "      <td>West</td>\n",
       "    </tr>\n",
       "    <tr>\n",
       "      <th>160</th>\n",
       "      <td>IA</td>\n",
       "      <td>Iowa</td>\n",
       "      <td>Midwest</td>\n",
       "    </tr>\n",
       "    <tr>\n",
       "      <th>180</th>\n",
       "      <td>ID</td>\n",
       "      <td>Idaho</td>\n",
       "      <td>West</td>\n",
       "    </tr>\n",
       "    <tr>\n",
       "      <th>200</th>\n",
       "      <td>IL</td>\n",
       "      <td>Illinois</td>\n",
       "      <td>Midwest</td>\n",
       "    </tr>\n",
       "    <tr>\n",
       "      <th>220</th>\n",
       "      <td>IN</td>\n",
       "      <td>Indiana</td>\n",
       "      <td>Midwest</td>\n",
       "    </tr>\n",
       "    <tr>\n",
       "      <th>240</th>\n",
       "      <td>KS</td>\n",
       "      <td>Kansas</td>\n",
       "      <td>Midwest</td>\n",
       "    </tr>\n",
       "    <tr>\n",
       "      <th>260</th>\n",
       "      <td>KY</td>\n",
       "      <td>Kentucky</td>\n",
       "      <td>South</td>\n",
       "    </tr>\n",
       "    <tr>\n",
       "      <th>280</th>\n",
       "      <td>LA</td>\n",
       "      <td>Louisiana</td>\n",
       "      <td>South</td>\n",
       "    </tr>\n",
       "    <tr>\n",
       "      <th>300</th>\n",
       "      <td>MD</td>\n",
       "      <td>Maryland</td>\n",
       "      <td>South</td>\n",
       "    </tr>\n",
       "    <tr>\n",
       "      <th>306</th>\n",
       "      <td>ME</td>\n",
       "      <td>Maine</td>\n",
       "      <td>Northeast</td>\n",
       "    </tr>\n",
       "    <tr>\n",
       "      <th>326</th>\n",
       "      <td>MI</td>\n",
       "      <td>Michigan</td>\n",
       "      <td>Midwest</td>\n",
       "    </tr>\n",
       "    <tr>\n",
       "      <th>346</th>\n",
       "      <td>MN</td>\n",
       "      <td>Minnesota</td>\n",
       "      <td>Midwest</td>\n",
       "    </tr>\n",
       "    <tr>\n",
       "      <th>366</th>\n",
       "      <td>MO</td>\n",
       "      <td>Missouri</td>\n",
       "      <td>Midwest</td>\n",
       "    </tr>\n",
       "    <tr>\n",
       "      <th>386</th>\n",
       "      <td>MS</td>\n",
       "      <td>Mississippi</td>\n",
       "      <td>South</td>\n",
       "    </tr>\n",
       "    <tr>\n",
       "      <th>406</th>\n",
       "      <td>MT</td>\n",
       "      <td>Montana</td>\n",
       "      <td>West</td>\n",
       "    </tr>\n",
       "    <tr>\n",
       "      <th>426</th>\n",
       "      <td>NC</td>\n",
       "      <td>North Carolina</td>\n",
       "      <td>South</td>\n",
       "    </tr>\n",
       "    <tr>\n",
       "      <th>446</th>\n",
       "      <td>ND</td>\n",
       "      <td>North Dakota</td>\n",
       "      <td>Midwest</td>\n",
       "    </tr>\n",
       "    <tr>\n",
       "      <th>466</th>\n",
       "      <td>NE</td>\n",
       "      <td>Nebraska</td>\n",
       "      <td>Midwest</td>\n",
       "    </tr>\n",
       "    <tr>\n",
       "      <th>486</th>\n",
       "      <td>NJ</td>\n",
       "      <td>New Jersey</td>\n",
       "      <td>Northeast</td>\n",
       "    </tr>\n",
       "    <tr>\n",
       "      <th>506</th>\n",
       "      <td>NM</td>\n",
       "      <td>New Mexico</td>\n",
       "      <td>West</td>\n",
       "    </tr>\n",
       "    <tr>\n",
       "      <th>521</th>\n",
       "      <td>NV</td>\n",
       "      <td>Nevada</td>\n",
       "      <td>West</td>\n",
       "    </tr>\n",
       "    <tr>\n",
       "      <th>532</th>\n",
       "      <td>NY</td>\n",
       "      <td>New York</td>\n",
       "      <td>Northeast</td>\n",
       "    </tr>\n",
       "    <tr>\n",
       "      <th>552</th>\n",
       "      <td>OH</td>\n",
       "      <td>Ohio</td>\n",
       "      <td>Midwest</td>\n",
       "    </tr>\n",
       "    <tr>\n",
       "      <th>572</th>\n",
       "      <td>OK</td>\n",
       "      <td>Oklahoma</td>\n",
       "      <td>South</td>\n",
       "    </tr>\n",
       "    <tr>\n",
       "      <th>578</th>\n",
       "      <td>OR</td>\n",
       "      <td>Oregon</td>\n",
       "      <td>West</td>\n",
       "    </tr>\n",
       "    <tr>\n",
       "      <th>598</th>\n",
       "      <td>PA</td>\n",
       "      <td>Pennsylvania</td>\n",
       "      <td>Northeast</td>\n",
       "    </tr>\n",
       "    <tr>\n",
       "      <th>618</th>\n",
       "      <td>SC</td>\n",
       "      <td>South Carolina</td>\n",
       "      <td>South</td>\n",
       "    </tr>\n",
       "    <tr>\n",
       "      <th>625</th>\n",
       "      <td>SD</td>\n",
       "      <td>South Dakota</td>\n",
       "      <td>Midwest</td>\n",
       "    </tr>\n",
       "    <tr>\n",
       "      <th>645</th>\n",
       "      <td>TN</td>\n",
       "      <td>Tennessee</td>\n",
       "      <td>South</td>\n",
       "    </tr>\n",
       "    <tr>\n",
       "      <th>665</th>\n",
       "      <td>TX</td>\n",
       "      <td>Texas</td>\n",
       "      <td>South</td>\n",
       "    </tr>\n",
       "    <tr>\n",
       "      <th>685</th>\n",
       "      <td>UT</td>\n",
       "      <td>Utah</td>\n",
       "      <td>West</td>\n",
       "    </tr>\n",
       "    <tr>\n",
       "      <th>705</th>\n",
       "      <td>VA</td>\n",
       "      <td>Virginia</td>\n",
       "      <td>South</td>\n",
       "    </tr>\n",
       "    <tr>\n",
       "      <th>725</th>\n",
       "      <td>VT</td>\n",
       "      <td>Vermont</td>\n",
       "      <td>Northeast</td>\n",
       "    </tr>\n",
       "    <tr>\n",
       "      <th>745</th>\n",
       "      <td>WA</td>\n",
       "      <td>Washington</td>\n",
       "      <td>West</td>\n",
       "    </tr>\n",
       "    <tr>\n",
       "      <th>765</th>\n",
       "      <td>WI</td>\n",
       "      <td>Wisconsin</td>\n",
       "      <td>Midwest</td>\n",
       "    </tr>\n",
       "    <tr>\n",
       "      <th>785</th>\n",
       "      <td>WV</td>\n",
       "      <td>West Virginia</td>\n",
       "      <td>South</td>\n",
       "    </tr>\n",
       "    <tr>\n",
       "      <th>805</th>\n",
       "      <td>WY</td>\n",
       "      <td>Wyoming</td>\n",
       "      <td>West</td>\n",
       "    </tr>\n",
       "  </tbody>\n",
       "</table>\n",
       "</div>"
      ],
      "text/plain": [
       "    state       StateName     Region\n",
       "0      AL         Alabama      South\n",
       "20     AR        Arkansas      South\n",
       "40     AZ         Arizona       West\n",
       "60     CA      California       West\n",
       "80     CO        Colorado       West\n",
       "100    FL         Florida      South\n",
       "120    GA         Georgia      South\n",
       "140    HI          Hawaii       West\n",
       "160    IA            Iowa    Midwest\n",
       "180    ID           Idaho       West\n",
       "200    IL        Illinois    Midwest\n",
       "220    IN         Indiana    Midwest\n",
       "240    KS          Kansas    Midwest\n",
       "260    KY        Kentucky      South\n",
       "280    LA       Louisiana      South\n",
       "300    MD        Maryland      South\n",
       "306    ME           Maine  Northeast\n",
       "326    MI        Michigan    Midwest\n",
       "346    MN       Minnesota    Midwest\n",
       "366    MO        Missouri    Midwest\n",
       "386    MS     Mississippi      South\n",
       "406    MT         Montana       West\n",
       "426    NC  North Carolina      South\n",
       "446    ND    North Dakota    Midwest\n",
       "466    NE        Nebraska    Midwest\n",
       "486    NJ      New Jersey  Northeast\n",
       "506    NM      New Mexico       West\n",
       "521    NV          Nevada       West\n",
       "532    NY        New York  Northeast\n",
       "552    OH            Ohio    Midwest\n",
       "572    OK        Oklahoma      South\n",
       "578    OR          Oregon       West\n",
       "598    PA    Pennsylvania  Northeast\n",
       "618    SC  South Carolina      South\n",
       "625    SD    South Dakota    Midwest\n",
       "645    TN       Tennessee      South\n",
       "665    TX           Texas      South\n",
       "685    UT            Utah       West\n",
       "705    VA        Virginia      South\n",
       "725    VT         Vermont  Northeast\n",
       "745    WA      Washington       West\n",
       "765    WI       Wisconsin    Midwest\n",
       "785    WV   West Virginia      South\n",
       "805    WY         Wyoming       West"
      ]
     },
     "execution_count": 21,
     "metadata": {},
     "output_type": "execute_result"
    }
   ],
   "source": [
    "data_state_nodup"
   ]
  },
  {
   "cell_type": "markdown",
   "metadata": {},
   "source": [
    "Assim, poderíamos manter os dados de estado em um DataFrame separado e manter em cada registro um campo identificador do estado (que pode ser `state` neste exemplo) que nos permite mapear com os dados adicionais.\n",
    "\n",
    "Observe que, embora contenham duplicatas em data e data_state, apenas descartamos data_state. Se o fizéssemos em dados, perderíamos todas as informações de produção por ano de cada estado."
   ]
  },
  {
   "cell_type": "markdown",
   "metadata": {},
   "source": [
    "## Substituição de valores\n",
    "\n",
    "O método [`pandas.DataFrame.replace()`](https://pandas.pydata.org/pandas-docs/stable/reference/api/pandas.DataFrame.replace.html) oferece várias maneiras de substituir dados em uma Series do Pandas:\n",
    "\n",
    "* Um valor antigo para um novo valor.\n",
    "    \n",
    "* Uma lista de valores antigos para um novo valor.\n",
    "    \n",
    "* Uma lista de valores antigos por uma lista de novos valores.\n",
    "    \n",
    "* Um dicionário que mapeia valores novos e antigos."
   ]
  },
  {
   "cell_type": "markdown",
   "metadata": {},
   "source": [
    "### Um valor antigo para um novo valor\n",
    "\n",
    "Vamos substituir as ocorrências de \"South\" por \"south\"."
   ]
  },
  {
   "cell_type": "code",
   "execution_count": 22,
   "metadata": {},
   "outputs": [
    {
     "data": {
      "text/html": [
       "<div>\n",
       "<style scoped>\n",
       "    .dataframe tbody tr th:only-of-type {\n",
       "        vertical-align: middle;\n",
       "    }\n",
       "\n",
       "    .dataframe tbody tr th {\n",
       "        vertical-align: top;\n",
       "    }\n",
       "\n",
       "    .dataframe thead th {\n",
       "        text-align: right;\n",
       "    }\n",
       "</style>\n",
       "<table border=\"1\" class=\"dataframe\">\n",
       "  <thead>\n",
       "    <tr style=\"text-align: right;\">\n",
       "      <th></th>\n",
       "      <th>state</th>\n",
       "      <th>numcol</th>\n",
       "      <th>yieldpercol</th>\n",
       "      <th>totalprod</th>\n",
       "      <th>stocks</th>\n",
       "      <th>priceperlb</th>\n",
       "      <th>prodvalue</th>\n",
       "      <th>year</th>\n",
       "      <th>StateName</th>\n",
       "      <th>Region</th>\n",
       "      <th>nCLOTHIANIDIN</th>\n",
       "      <th>nIMIDACLOPRID</th>\n",
       "      <th>nTHIAMETHOXAM</th>\n",
       "      <th>nACETAMIPRID</th>\n",
       "      <th>nTHIACLOPRID</th>\n",
       "      <th>nAllNeonic</th>\n",
       "    </tr>\n",
       "  </thead>\n",
       "  <tbody>\n",
       "    <tr>\n",
       "      <th>0</th>\n",
       "      <td>AL</td>\n",
       "      <td>11000.0</td>\n",
       "      <td>56</td>\n",
       "      <td>616000.0</td>\n",
       "      <td>209000.0</td>\n",
       "      <td>1.49</td>\n",
       "      <td>918000.0</td>\n",
       "      <td>2007</td>\n",
       "      <td>Alabama</td>\n",
       "      <td>south</td>\n",
       "      <td>7696.2</td>\n",
       "      <td>3258.1</td>\n",
       "      <td>4149.6</td>\n",
       "      <td>0.0</td>\n",
       "      <td>0.0</td>\n",
       "      <td>15103.9</td>\n",
       "    </tr>\n",
       "    <tr>\n",
       "      <th>1</th>\n",
       "      <td>AL</td>\n",
       "      <td>11000.0</td>\n",
       "      <td>72</td>\n",
       "      <td>792000.0</td>\n",
       "      <td>230000.0</td>\n",
       "      <td>1.21</td>\n",
       "      <td>958000.0</td>\n",
       "      <td>2006</td>\n",
       "      <td>Alabama</td>\n",
       "      <td>south</td>\n",
       "      <td>680.0</td>\n",
       "      <td>4230.2</td>\n",
       "      <td>5371.6</td>\n",
       "      <td>0.0</td>\n",
       "      <td>0.0</td>\n",
       "      <td>10281.8</td>\n",
       "    </tr>\n",
       "    <tr>\n",
       "      <th>2</th>\n",
       "      <td>AL</td>\n",
       "      <td>12000.0</td>\n",
       "      <td>86</td>\n",
       "      <td>1032000.0</td>\n",
       "      <td>103000.0</td>\n",
       "      <td>1.18</td>\n",
       "      <td>1218000.0</td>\n",
       "      <td>2002</td>\n",
       "      <td>Alabama</td>\n",
       "      <td>south</td>\n",
       "      <td>0.0</td>\n",
       "      <td>1178.8</td>\n",
       "      <td>840.4</td>\n",
       "      <td>0.0</td>\n",
       "      <td>0.0</td>\n",
       "      <td>2019.2</td>\n",
       "    </tr>\n",
       "    <tr>\n",
       "      <th>3</th>\n",
       "      <td>AL</td>\n",
       "      <td>12000.0</td>\n",
       "      <td>87</td>\n",
       "      <td>1044000.0</td>\n",
       "      <td>282000.0</td>\n",
       "      <td>1.41</td>\n",
       "      <td>1472000.0</td>\n",
       "      <td>2004</td>\n",
       "      <td>Alabama</td>\n",
       "      <td>south</td>\n",
       "      <td>2676.4</td>\n",
       "      <td>1323.9</td>\n",
       "      <td>3863.9</td>\n",
       "      <td>0.0</td>\n",
       "      <td>0.0</td>\n",
       "      <td>7864.2</td>\n",
       "    </tr>\n",
       "    <tr>\n",
       "      <th>4</th>\n",
       "      <td>AL</td>\n",
       "      <td>13000.0</td>\n",
       "      <td>66</td>\n",
       "      <td>858000.0</td>\n",
       "      <td>266000.0</td>\n",
       "      <td>1.02</td>\n",
       "      <td>875000.0</td>\n",
       "      <td>2005</td>\n",
       "      <td>Alabama</td>\n",
       "      <td>south</td>\n",
       "      <td>1503.6</td>\n",
       "      <td>994.5</td>\n",
       "      <td>5493.9</td>\n",
       "      <td>0.0</td>\n",
       "      <td>0.0</td>\n",
       "      <td>7992.0</td>\n",
       "    </tr>\n",
       "  </tbody>\n",
       "</table>\n",
       "</div>"
      ],
      "text/plain": [
       "  state   numcol  yieldpercol  totalprod    stocks  priceperlb  prodvalue   \n",
       "0    AL  11000.0           56   616000.0  209000.0        1.49   918000.0  \\\n",
       "1    AL  11000.0           72   792000.0  230000.0        1.21   958000.0   \n",
       "2    AL  12000.0           86  1032000.0  103000.0        1.18  1218000.0   \n",
       "3    AL  12000.0           87  1044000.0  282000.0        1.41  1472000.0   \n",
       "4    AL  13000.0           66   858000.0  266000.0        1.02   875000.0   \n",
       "\n",
       "   year StateName Region  nCLOTHIANIDIN  nIMIDACLOPRID  nTHIAMETHOXAM   \n",
       "0  2007   Alabama  south         7696.2         3258.1         4149.6  \\\n",
       "1  2006   Alabama  south          680.0         4230.2         5371.6   \n",
       "2  2002   Alabama  south            0.0         1178.8          840.4   \n",
       "3  2004   Alabama  south         2676.4         1323.9         3863.9   \n",
       "4  2005   Alabama  south         1503.6          994.5         5493.9   \n",
       "\n",
       "   nACETAMIPRID  nTHIACLOPRID  nAllNeonic  \n",
       "0           0.0           0.0     15103.9  \n",
       "1           0.0           0.0     10281.8  \n",
       "2           0.0           0.0      2019.2  \n",
       "3           0.0           0.0      7864.2  \n",
       "4           0.0           0.0      7992.0  "
      ]
     },
     "execution_count": 22,
     "metadata": {},
     "output_type": "execute_result"
    }
   ],
   "source": [
    "data_south = data.replace(\"South\", \"south\")\n",
    "data_south.head()"
   ]
  },
  {
   "cell_type": "markdown",
   "metadata": {},
   "source": [
    "### Uma lista de valores antigos para um novo valor\n",
    "\n",
    "Vamos substituir todos os valores do campo totalprod por np.NaN\n",
    "\n",
    "Para isso, vamos criar uma lista de valores únicos com os valores da coluna data.totalprod."
   ]
  },
  {
   "cell_type": "code",
   "execution_count": 23,
   "metadata": {},
   "outputs": [],
   "source": [
    "to_be_replaced = data.totalprod.unique()\n"
   ]
  },
  {
   "cell_type": "code",
   "execution_count": 25,
   "metadata": {},
   "outputs": [
    {
     "data": {
      "text/html": [
       "<div>\n",
       "<style scoped>\n",
       "    .dataframe tbody tr th:only-of-type {\n",
       "        vertical-align: middle;\n",
       "    }\n",
       "\n",
       "    .dataframe tbody tr th {\n",
       "        vertical-align: top;\n",
       "    }\n",
       "\n",
       "    .dataframe thead th {\n",
       "        text-align: right;\n",
       "    }\n",
       "</style>\n",
       "<table border=\"1\" class=\"dataframe\">\n",
       "  <thead>\n",
       "    <tr style=\"text-align: right;\">\n",
       "      <th></th>\n",
       "      <th>state</th>\n",
       "      <th>numcol</th>\n",
       "      <th>yieldpercol</th>\n",
       "      <th>totalprod</th>\n",
       "      <th>stocks</th>\n",
       "      <th>priceperlb</th>\n",
       "      <th>prodvalue</th>\n",
       "      <th>year</th>\n",
       "      <th>StateName</th>\n",
       "      <th>Region</th>\n",
       "      <th>nCLOTHIANIDIN</th>\n",
       "      <th>nIMIDACLOPRID</th>\n",
       "      <th>nTHIAMETHOXAM</th>\n",
       "      <th>nACETAMIPRID</th>\n",
       "      <th>nTHIACLOPRID</th>\n",
       "      <th>nAllNeonic</th>\n",
       "    </tr>\n",
       "  </thead>\n",
       "  <tbody>\n",
       "    <tr>\n",
       "      <th>0</th>\n",
       "      <td>AL</td>\n",
       "      <td>11000.0</td>\n",
       "      <td>56</td>\n",
       "      <td>NaN</td>\n",
       "      <td>209000.0</td>\n",
       "      <td>1.49</td>\n",
       "      <td>918000.0</td>\n",
       "      <td>2007</td>\n",
       "      <td>Alabama</td>\n",
       "      <td>South</td>\n",
       "      <td>7696.2</td>\n",
       "      <td>3258.1</td>\n",
       "      <td>4149.6</td>\n",
       "      <td>0.0</td>\n",
       "      <td>0.0</td>\n",
       "      <td>15103.9</td>\n",
       "    </tr>\n",
       "    <tr>\n",
       "      <th>1</th>\n",
       "      <td>AL</td>\n",
       "      <td>11000.0</td>\n",
       "      <td>72</td>\n",
       "      <td>NaN</td>\n",
       "      <td>NaN</td>\n",
       "      <td>1.21</td>\n",
       "      <td>958000.0</td>\n",
       "      <td>2006</td>\n",
       "      <td>Alabama</td>\n",
       "      <td>South</td>\n",
       "      <td>680.0</td>\n",
       "      <td>4230.2</td>\n",
       "      <td>5371.6</td>\n",
       "      <td>0.0</td>\n",
       "      <td>0.0</td>\n",
       "      <td>10281.8</td>\n",
       "    </tr>\n",
       "    <tr>\n",
       "      <th>2</th>\n",
       "      <td>AL</td>\n",
       "      <td>12000.0</td>\n",
       "      <td>86</td>\n",
       "      <td>NaN</td>\n",
       "      <td>103000.0</td>\n",
       "      <td>1.18</td>\n",
       "      <td>1218000.0</td>\n",
       "      <td>2002</td>\n",
       "      <td>Alabama</td>\n",
       "      <td>South</td>\n",
       "      <td>0.0</td>\n",
       "      <td>1178.8</td>\n",
       "      <td>840.4</td>\n",
       "      <td>0.0</td>\n",
       "      <td>0.0</td>\n",
       "      <td>2019.2</td>\n",
       "    </tr>\n",
       "    <tr>\n",
       "      <th>3</th>\n",
       "      <td>AL</td>\n",
       "      <td>12000.0</td>\n",
       "      <td>87</td>\n",
       "      <td>NaN</td>\n",
       "      <td>NaN</td>\n",
       "      <td>1.41</td>\n",
       "      <td>1472000.0</td>\n",
       "      <td>2004</td>\n",
       "      <td>Alabama</td>\n",
       "      <td>South</td>\n",
       "      <td>2676.4</td>\n",
       "      <td>1323.9</td>\n",
       "      <td>3863.9</td>\n",
       "      <td>0.0</td>\n",
       "      <td>0.0</td>\n",
       "      <td>7864.2</td>\n",
       "    </tr>\n",
       "    <tr>\n",
       "      <th>4</th>\n",
       "      <td>AL</td>\n",
       "      <td>13000.0</td>\n",
       "      <td>66</td>\n",
       "      <td>NaN</td>\n",
       "      <td>NaN</td>\n",
       "      <td>1.02</td>\n",
       "      <td>875000.0</td>\n",
       "      <td>2005</td>\n",
       "      <td>Alabama</td>\n",
       "      <td>South</td>\n",
       "      <td>1503.6</td>\n",
       "      <td>994.5</td>\n",
       "      <td>5493.9</td>\n",
       "      <td>0.0</td>\n",
       "      <td>0.0</td>\n",
       "      <td>7992.0</td>\n",
       "    </tr>\n",
       "    <tr>\n",
       "      <th>...</th>\n",
       "      <td>...</td>\n",
       "      <td>...</td>\n",
       "      <td>...</td>\n",
       "      <td>...</td>\n",
       "      <td>...</td>\n",
       "      <td>...</td>\n",
       "      <td>...</td>\n",
       "      <td>...</td>\n",
       "      <td>...</td>\n",
       "      <td>...</td>\n",
       "      <td>...</td>\n",
       "      <td>...</td>\n",
       "      <td>...</td>\n",
       "      <td>...</td>\n",
       "      <td>...</td>\n",
       "      <td>...</td>\n",
       "    </tr>\n",
       "    <tr>\n",
       "      <th>820</th>\n",
       "      <td>WY</td>\n",
       "      <td>40000.0</td>\n",
       "      <td>68</td>\n",
       "      <td>NaN</td>\n",
       "      <td>NaN</td>\n",
       "      <td>1.78</td>\n",
       "      <td>4842000.0</td>\n",
       "      <td>2016</td>\n",
       "      <td>Wyoming</td>\n",
       "      <td>West</td>\n",
       "      <td>0.0</td>\n",
       "      <td>27.5</td>\n",
       "      <td>9.4</td>\n",
       "      <td>0.0</td>\n",
       "      <td>0.0</td>\n",
       "      <td>36.9</td>\n",
       "    </tr>\n",
       "    <tr>\n",
       "      <th>821</th>\n",
       "      <td>WY</td>\n",
       "      <td>43000.0</td>\n",
       "      <td>80</td>\n",
       "      <td>NaN</td>\n",
       "      <td>894000.0</td>\n",
       "      <td>1.00</td>\n",
       "      <td>NaN</td>\n",
       "      <td>2007</td>\n",
       "      <td>Wyoming</td>\n",
       "      <td>West</td>\n",
       "      <td>122.2</td>\n",
       "      <td>198.3</td>\n",
       "      <td>76.3</td>\n",
       "      <td>0.0</td>\n",
       "      <td>0.0</td>\n",
       "      <td>396.8</td>\n",
       "    </tr>\n",
       "    <tr>\n",
       "      <th>822</th>\n",
       "      <td>WY</td>\n",
       "      <td>46000.0</td>\n",
       "      <td>60</td>\n",
       "      <td>NaN</td>\n",
       "      <td>524000.0</td>\n",
       "      <td>0.68</td>\n",
       "      <td>1877000.0</td>\n",
       "      <td>1998</td>\n",
       "      <td>Wyoming</td>\n",
       "      <td>West</td>\n",
       "      <td>0.0</td>\n",
       "      <td>91.2</td>\n",
       "      <td>0.0</td>\n",
       "      <td>0.0</td>\n",
       "      <td>0.0</td>\n",
       "      <td>91.2</td>\n",
       "    </tr>\n",
       "    <tr>\n",
       "      <th>823</th>\n",
       "      <td>WY</td>\n",
       "      <td>47000.0</td>\n",
       "      <td>66</td>\n",
       "      <td>NaN</td>\n",
       "      <td>NaN</td>\n",
       "      <td>2.11</td>\n",
       "      <td>6545000.0</td>\n",
       "      <td>2013</td>\n",
       "      <td>Wyoming</td>\n",
       "      <td>West</td>\n",
       "      <td>840.9</td>\n",
       "      <td>155.9</td>\n",
       "      <td>526.2</td>\n",
       "      <td>0.0</td>\n",
       "      <td>0.0</td>\n",
       "      <td>1523.0</td>\n",
       "    </tr>\n",
       "    <tr>\n",
       "      <th>824</th>\n",
       "      <td>WY</td>\n",
       "      <td>50000.0</td>\n",
       "      <td>51</td>\n",
       "      <td>NaN</td>\n",
       "      <td>NaN</td>\n",
       "      <td>1.87</td>\n",
       "      <td>4769000.0</td>\n",
       "      <td>2012</td>\n",
       "      <td>Wyoming</td>\n",
       "      <td>West</td>\n",
       "      <td>1174.9</td>\n",
       "      <td>277.0</td>\n",
       "      <td>423.3</td>\n",
       "      <td>0.0</td>\n",
       "      <td>0.0</td>\n",
       "      <td>1875.2</td>\n",
       "    </tr>\n",
       "  </tbody>\n",
       "</table>\n",
       "<p>825 rows × 16 columns</p>\n",
       "</div>"
      ],
      "text/plain": [
       "    state   numcol  yieldpercol  totalprod    stocks  priceperlb  prodvalue   \n",
       "0      AL  11000.0           56        NaN  209000.0        1.49   918000.0  \\\n",
       "1      AL  11000.0           72        NaN       NaN        1.21   958000.0   \n",
       "2      AL  12000.0           86        NaN  103000.0        1.18  1218000.0   \n",
       "3      AL  12000.0           87        NaN       NaN        1.41  1472000.0   \n",
       "4      AL  13000.0           66        NaN       NaN        1.02   875000.0   \n",
       "..    ...      ...          ...        ...       ...         ...        ...   \n",
       "820    WY  40000.0           68        NaN       NaN        1.78  4842000.0   \n",
       "821    WY  43000.0           80        NaN  894000.0        1.00        NaN   \n",
       "822    WY  46000.0           60        NaN  524000.0        0.68  1877000.0   \n",
       "823    WY  47000.0           66        NaN       NaN        2.11  6545000.0   \n",
       "824    WY  50000.0           51        NaN       NaN        1.87  4769000.0   \n",
       "\n",
       "     year StateName Region  nCLOTHIANIDIN  nIMIDACLOPRID  nTHIAMETHOXAM   \n",
       "0    2007   Alabama  South         7696.2         3258.1         4149.6  \\\n",
       "1    2006   Alabama  South          680.0         4230.2         5371.6   \n",
       "2    2002   Alabama  South            0.0         1178.8          840.4   \n",
       "3    2004   Alabama  South         2676.4         1323.9         3863.9   \n",
       "4    2005   Alabama  South         1503.6          994.5         5493.9   \n",
       "..    ...       ...    ...            ...            ...            ...   \n",
       "820  2016   Wyoming   West            0.0           27.5            9.4   \n",
       "821  2007   Wyoming   West          122.2          198.3           76.3   \n",
       "822  1998   Wyoming   West            0.0           91.2            0.0   \n",
       "823  2013   Wyoming   West          840.9          155.9          526.2   \n",
       "824  2012   Wyoming   West         1174.9          277.0          423.3   \n",
       "\n",
       "     nACETAMIPRID  nTHIACLOPRID  nAllNeonic  \n",
       "0             0.0           0.0     15103.9  \n",
       "1             0.0           0.0     10281.8  \n",
       "2             0.0           0.0      2019.2  \n",
       "3             0.0           0.0      7864.2  \n",
       "4             0.0           0.0      7992.0  \n",
       "..            ...           ...         ...  \n",
       "820           0.0           0.0        36.9  \n",
       "821           0.0           0.0       396.8  \n",
       "822           0.0           0.0        91.2  \n",
       "823           0.0           0.0      1523.0  \n",
       "824           0.0           0.0      1875.2  \n",
       "\n",
       "[825 rows x 16 columns]"
      ]
     },
     "execution_count": 25,
     "metadata": {},
     "output_type": "execute_result"
    }
   ],
   "source": [
    "#IMPORTANTE: Tomar muito cuidado com o replace a nível de todo o Data Frame. \n",
    "# O mais correto é avaliar as features de forma individual e ver as melhores substituições\n",
    "data_totalprod_null = data.replace(to_be_replaced, np.NaN)\n",
    "data_totalprod_null"
   ]
  },
  {
   "cell_type": "markdown",
   "metadata": {},
   "source": [
    "Observe que, nesta substituição, não estamos especificando a coluna que estamos substituindo, portanto, ela substitui os valores que estão no primeiro argumento em qualquer campo em que apareçam.\n",
    "\n",
    "Vamos ver qual porcentagem de nulos havia no DatFrame original e quantos existem em data_totalprod_null."
   ]
  },
  {
   "cell_type": "code",
   "execution_count": 26,
   "metadata": {},
   "outputs": [
    {
     "data": {
      "text/plain": [
       "state            0.000000\n",
       "numcol           0.000000\n",
       "yieldpercol      0.000000\n",
       "totalprod        0.000000\n",
       "stocks           0.000000\n",
       "priceperlb       0.000000\n",
       "prodvalue        0.000000\n",
       "year             0.000000\n",
       "StateName        0.000000\n",
       "Region           0.000000\n",
       "nCLOTHIANIDIN    0.077576\n",
       "nIMIDACLOPRID    0.077576\n",
       "nTHIAMETHOXAM    0.077576\n",
       "nACETAMIPRID     0.077576\n",
       "nTHIACLOPRID     0.077576\n",
       "nAllNeonic       0.077576\n",
       "dtype: float64"
      ]
     },
     "execution_count": 26,
     "metadata": {},
     "output_type": "execute_result"
    }
   ],
   "source": [
    "data.isnull().sum() / data.shape[0]"
   ]
  },
  {
   "cell_type": "code",
   "execution_count": 27,
   "metadata": {},
   "outputs": [
    {
     "data": {
      "text/plain": [
       "state            0.000000\n",
       "numcol           0.073939\n",
       "yieldpercol      0.000000\n",
       "totalprod        1.000000\n",
       "stocks           0.156364\n",
       "priceperlb       0.000000\n",
       "prodvalue        0.113939\n",
       "year             0.000000\n",
       "StateName        0.000000\n",
       "Region           0.000000\n",
       "nCLOTHIANIDIN    0.077576\n",
       "nIMIDACLOPRID    0.077576\n",
       "nTHIAMETHOXAM    0.077576\n",
       "nACETAMIPRID     0.077576\n",
       "nTHIACLOPRID     0.077576\n",
       "nAllNeonic       0.077576\n",
       "dtype: float64"
      ]
     },
     "execution_count": 27,
     "metadata": {},
     "output_type": "execute_result"
    }
   ],
   "source": [
    "data_totalprod_null.isnull().sum() / data_totalprod_null.shape[0]"
   ]
  },
  {
   "cell_type": "markdown",
   "metadata": {},
   "source": [
    "Vemos que conseguimos substituiurtodos os valores de `totalprod` e alguns dos valores em`numcol`, `stocks` e `prodvalue`."
   ]
  },
  {
   "cell_type": "markdown",
   "metadata": {},
   "source": [
    "### Uma lista de valores antigos por uma lista de novos valores\n",
    "\n",
    "Vamos substituir os valores da coluna state por outros que são o resultado da concatenação do campo de region com o campo de state, para cada valor de state."
   ]
  },
  {
   "cell_type": "code",
   "execution_count": 28,
   "metadata": {},
   "outputs": [
    {
     "name": "stdout",
     "output_type": "stream",
     "text": [
      "44\n",
      "44\n"
     ]
    }
   ],
   "source": [
    "valores_antigos = data.state.unique()\n",
    "valores_novos = (data.Region + \"_\" + data.state).unique()\n",
    "print(len(valores_antigos))\n",
    "print(len(valores_novos))"
   ]
  },
  {
   "cell_type": "code",
   "execution_count": 29,
   "metadata": {},
   "outputs": [
    {
     "data": {
      "text/plain": [
       "numpy.ndarray"
      ]
     },
     "execution_count": 29,
     "metadata": {},
     "output_type": "execute_result"
    }
   ],
   "source": [
    "type(valores_novos)"
   ]
  },
  {
   "cell_type": "code",
   "execution_count": 30,
   "metadata": {},
   "outputs": [
    {
     "data": {
      "text/html": [
       "<div>\n",
       "<style scoped>\n",
       "    .dataframe tbody tr th:only-of-type {\n",
       "        vertical-align: middle;\n",
       "    }\n",
       "\n",
       "    .dataframe tbody tr th {\n",
       "        vertical-align: top;\n",
       "    }\n",
       "\n",
       "    .dataframe thead th {\n",
       "        text-align: right;\n",
       "    }\n",
       "</style>\n",
       "<table border=\"1\" class=\"dataframe\">\n",
       "  <thead>\n",
       "    <tr style=\"text-align: right;\">\n",
       "      <th></th>\n",
       "      <th>state</th>\n",
       "      <th>numcol</th>\n",
       "      <th>yieldpercol</th>\n",
       "      <th>totalprod</th>\n",
       "      <th>stocks</th>\n",
       "      <th>priceperlb</th>\n",
       "      <th>prodvalue</th>\n",
       "      <th>year</th>\n",
       "      <th>StateName</th>\n",
       "      <th>Region</th>\n",
       "      <th>nCLOTHIANIDIN</th>\n",
       "      <th>nIMIDACLOPRID</th>\n",
       "      <th>nTHIAMETHOXAM</th>\n",
       "      <th>nACETAMIPRID</th>\n",
       "      <th>nTHIACLOPRID</th>\n",
       "      <th>nAllNeonic</th>\n",
       "    </tr>\n",
       "  </thead>\n",
       "  <tbody>\n",
       "    <tr>\n",
       "      <th>821</th>\n",
       "      <td>West_WY</td>\n",
       "      <td>43000.0</td>\n",
       "      <td>80</td>\n",
       "      <td>3440000.0</td>\n",
       "      <td>894000.0</td>\n",
       "      <td>1.00</td>\n",
       "      <td>3440000.0</td>\n",
       "      <td>2007</td>\n",
       "      <td>Wyoming</td>\n",
       "      <td>West</td>\n",
       "      <td>122.2</td>\n",
       "      <td>198.3</td>\n",
       "      <td>76.3</td>\n",
       "      <td>0.0</td>\n",
       "      <td>0.0</td>\n",
       "      <td>396.8</td>\n",
       "    </tr>\n",
       "    <tr>\n",
       "      <th>796</th>\n",
       "      <td>South_WV</td>\n",
       "      <td>6000.0</td>\n",
       "      <td>48</td>\n",
       "      <td>288000.0</td>\n",
       "      <td>95000.0</td>\n",
       "      <td>2.09</td>\n",
       "      <td>602000.0</td>\n",
       "      <td>2007</td>\n",
       "      <td>West Virginia</td>\n",
       "      <td>South</td>\n",
       "      <td>143.4</td>\n",
       "      <td>178.0</td>\n",
       "      <td>66.6</td>\n",
       "      <td>288.9</td>\n",
       "      <td>172.6</td>\n",
       "      <td>849.5</td>\n",
       "    </tr>\n",
       "    <tr>\n",
       "      <th>472</th>\n",
       "      <td>Midwest_NE</td>\n",
       "      <td>43000.0</td>\n",
       "      <td>65</td>\n",
       "      <td>2795000.0</td>\n",
       "      <td>1146000.0</td>\n",
       "      <td>1.93</td>\n",
       "      <td>5394000.0</td>\n",
       "      <td>2012</td>\n",
       "      <td>Nebraska</td>\n",
       "      <td>Midwest</td>\n",
       "      <td>115264.2</td>\n",
       "      <td>24340.8</td>\n",
       "      <td>47666.3</td>\n",
       "      <td>0.0</td>\n",
       "      <td>0.0</td>\n",
       "      <td>187271.3</td>\n",
       "    </tr>\n",
       "    <tr>\n",
       "      <th>280</th>\n",
       "      <td>South_LA</td>\n",
       "      <td>29000.0</td>\n",
       "      <td>89</td>\n",
       "      <td>2581000.0</td>\n",
       "      <td>413000.0</td>\n",
       "      <td>1.08</td>\n",
       "      <td>2787000.0</td>\n",
       "      <td>2007</td>\n",
       "      <td>Louisiana</td>\n",
       "      <td>South</td>\n",
       "      <td>730.1</td>\n",
       "      <td>3945.3</td>\n",
       "      <td>9864.2</td>\n",
       "      <td>759.7</td>\n",
       "      <td>0.0</td>\n",
       "      <td>15299.3</td>\n",
       "    </tr>\n",
       "    <tr>\n",
       "      <th>604</th>\n",
       "      <td>Northeast_PA</td>\n",
       "      <td>21000.0</td>\n",
       "      <td>40</td>\n",
       "      <td>840000.0</td>\n",
       "      <td>319000.0</td>\n",
       "      <td>2.03</td>\n",
       "      <td>1705000.0</td>\n",
       "      <td>2009</td>\n",
       "      <td>Pennsylvania</td>\n",
       "      <td>Northeast</td>\n",
       "      <td>10994.0</td>\n",
       "      <td>2636.1</td>\n",
       "      <td>2797.3</td>\n",
       "      <td>1156.0</td>\n",
       "      <td>1137.1</td>\n",
       "      <td>18720.5</td>\n",
       "    </tr>\n",
       "  </tbody>\n",
       "</table>\n",
       "</div>"
      ],
      "text/plain": [
       "            state   numcol  yieldpercol  totalprod     stocks  priceperlb   \n",
       "821       West_WY  43000.0           80  3440000.0   894000.0        1.00  \\\n",
       "796      South_WV   6000.0           48   288000.0    95000.0        2.09   \n",
       "472    Midwest_NE  43000.0           65  2795000.0  1146000.0        1.93   \n",
       "280      South_LA  29000.0           89  2581000.0   413000.0        1.08   \n",
       "604  Northeast_PA  21000.0           40   840000.0   319000.0        2.03   \n",
       "\n",
       "     prodvalue  year      StateName     Region  nCLOTHIANIDIN  nIMIDACLOPRID   \n",
       "821  3440000.0  2007        Wyoming       West          122.2          198.3  \\\n",
       "796   602000.0  2007  West Virginia      South          143.4          178.0   \n",
       "472  5394000.0  2012       Nebraska    Midwest       115264.2        24340.8   \n",
       "280  2787000.0  2007      Louisiana      South          730.1         3945.3   \n",
       "604  1705000.0  2009   Pennsylvania  Northeast        10994.0         2636.1   \n",
       "\n",
       "     nTHIAMETHOXAM  nACETAMIPRID  nTHIACLOPRID  nAllNeonic  \n",
       "821           76.3           0.0           0.0       396.8  \n",
       "796           66.6         288.9         172.6       849.5  \n",
       "472        47666.3           0.0           0.0    187271.3  \n",
       "280         9864.2         759.7           0.0     15299.3  \n",
       "604         2797.3        1156.0        1137.1     18720.5  "
      ]
     },
     "execution_count": 30,
     "metadata": {},
     "output_type": "execute_result"
    }
   ],
   "source": [
    "data_state_modif = data.replace(valores_antigos, \n",
    "                                valores_novos\n",
    "                               )\n",
    "data_state_modif.sample(5)"
   ]
  },
  {
   "cell_type": "code",
   "execution_count": 32,
   "metadata": {},
   "outputs": [
    {
     "data": {
      "text/html": [
       "<div>\n",
       "<style scoped>\n",
       "    .dataframe tbody tr th:only-of-type {\n",
       "        vertical-align: middle;\n",
       "    }\n",
       "\n",
       "    .dataframe tbody tr th {\n",
       "        vertical-align: top;\n",
       "    }\n",
       "\n",
       "    .dataframe thead th {\n",
       "        text-align: right;\n",
       "    }\n",
       "</style>\n",
       "<table border=\"1\" class=\"dataframe\">\n",
       "  <thead>\n",
       "    <tr style=\"text-align: right;\">\n",
       "      <th></th>\n",
       "      <th>state</th>\n",
       "      <th>numcol</th>\n",
       "      <th>yieldpercol</th>\n",
       "      <th>totalprod</th>\n",
       "      <th>stocks</th>\n",
       "      <th>priceperlb</th>\n",
       "      <th>prodvalue</th>\n",
       "      <th>year</th>\n",
       "      <th>StateName</th>\n",
       "      <th>Region</th>\n",
       "      <th>nCLOTHIANIDIN</th>\n",
       "      <th>nIMIDACLOPRID</th>\n",
       "      <th>nTHIAMETHOXAM</th>\n",
       "      <th>nACETAMIPRID</th>\n",
       "      <th>nTHIACLOPRID</th>\n",
       "      <th>nAllNeonic</th>\n",
       "    </tr>\n",
       "  </thead>\n",
       "  <tbody>\n",
       "    <tr>\n",
       "      <th>0</th>\n",
       "      <td>South_AL</td>\n",
       "      <td>11000.0</td>\n",
       "      <td>56</td>\n",
       "      <td>616000.0</td>\n",
       "      <td>209000.0</td>\n",
       "      <td>1.49</td>\n",
       "      <td>918000.0</td>\n",
       "      <td>2007</td>\n",
       "      <td>Alabama</td>\n",
       "      <td>South</td>\n",
       "      <td>7696.2</td>\n",
       "      <td>3258.1</td>\n",
       "      <td>4149.6</td>\n",
       "      <td>0.0</td>\n",
       "      <td>0.0</td>\n",
       "      <td>15103.9</td>\n",
       "    </tr>\n",
       "    <tr>\n",
       "      <th>1</th>\n",
       "      <td>South_AL</td>\n",
       "      <td>11000.0</td>\n",
       "      <td>72</td>\n",
       "      <td>792000.0</td>\n",
       "      <td>230000.0</td>\n",
       "      <td>1.21</td>\n",
       "      <td>958000.0</td>\n",
       "      <td>2006</td>\n",
       "      <td>Alabama</td>\n",
       "      <td>South</td>\n",
       "      <td>680.0</td>\n",
       "      <td>4230.2</td>\n",
       "      <td>5371.6</td>\n",
       "      <td>0.0</td>\n",
       "      <td>0.0</td>\n",
       "      <td>10281.8</td>\n",
       "    </tr>\n",
       "    <tr>\n",
       "      <th>2</th>\n",
       "      <td>South_AL</td>\n",
       "      <td>12000.0</td>\n",
       "      <td>86</td>\n",
       "      <td>1032000.0</td>\n",
       "      <td>103000.0</td>\n",
       "      <td>1.18</td>\n",
       "      <td>1218000.0</td>\n",
       "      <td>2002</td>\n",
       "      <td>Alabama</td>\n",
       "      <td>South</td>\n",
       "      <td>0.0</td>\n",
       "      <td>1178.8</td>\n",
       "      <td>840.4</td>\n",
       "      <td>0.0</td>\n",
       "      <td>0.0</td>\n",
       "      <td>2019.2</td>\n",
       "    </tr>\n",
       "    <tr>\n",
       "      <th>3</th>\n",
       "      <td>South_AL</td>\n",
       "      <td>12000.0</td>\n",
       "      <td>87</td>\n",
       "      <td>1044000.0</td>\n",
       "      <td>282000.0</td>\n",
       "      <td>1.41</td>\n",
       "      <td>1472000.0</td>\n",
       "      <td>2004</td>\n",
       "      <td>Alabama</td>\n",
       "      <td>South</td>\n",
       "      <td>2676.4</td>\n",
       "      <td>1323.9</td>\n",
       "      <td>3863.9</td>\n",
       "      <td>0.0</td>\n",
       "      <td>0.0</td>\n",
       "      <td>7864.2</td>\n",
       "    </tr>\n",
       "    <tr>\n",
       "      <th>4</th>\n",
       "      <td>South_AL</td>\n",
       "      <td>13000.0</td>\n",
       "      <td>66</td>\n",
       "      <td>858000.0</td>\n",
       "      <td>266000.0</td>\n",
       "      <td>1.02</td>\n",
       "      <td>875000.0</td>\n",
       "      <td>2005</td>\n",
       "      <td>Alabama</td>\n",
       "      <td>South</td>\n",
       "      <td>1503.6</td>\n",
       "      <td>994.5</td>\n",
       "      <td>5493.9</td>\n",
       "      <td>0.0</td>\n",
       "      <td>0.0</td>\n",
       "      <td>7992.0</td>\n",
       "    </tr>\n",
       "  </tbody>\n",
       "</table>\n",
       "</div>"
      ],
      "text/plain": [
       "      state   numcol  yieldpercol  totalprod    stocks  priceperlb  prodvalue   \n",
       "0  South_AL  11000.0           56   616000.0  209000.0        1.49   918000.0  \\\n",
       "1  South_AL  11000.0           72   792000.0  230000.0        1.21   958000.0   \n",
       "2  South_AL  12000.0           86  1032000.0  103000.0        1.18  1218000.0   \n",
       "3  South_AL  12000.0           87  1044000.0  282000.0        1.41  1472000.0   \n",
       "4  South_AL  13000.0           66   858000.0  266000.0        1.02   875000.0   \n",
       "\n",
       "   year StateName Region  nCLOTHIANIDIN  nIMIDACLOPRID  nTHIAMETHOXAM   \n",
       "0  2007   Alabama  South         7696.2         3258.1         4149.6  \\\n",
       "1  2006   Alabama  South          680.0         4230.2         5371.6   \n",
       "2  2002   Alabama  South            0.0         1178.8          840.4   \n",
       "3  2004   Alabama  South         2676.4         1323.9         3863.9   \n",
       "4  2005   Alabama  South         1503.6          994.5         5493.9   \n",
       "\n",
       "   nACETAMIPRID  nTHIACLOPRID  nAllNeonic  \n",
       "0           0.0           0.0     15103.9  \n",
       "1           0.0           0.0     10281.8  \n",
       "2           0.0           0.0      2019.2  \n",
       "3           0.0           0.0      7864.2  \n",
       "4           0.0           0.0      7992.0  "
      ]
     },
     "execution_count": 32,
     "metadata": {},
     "output_type": "execute_result"
    }
   ],
   "source": [
    "data_state_modif.head()"
   ]
  },
  {
   "cell_type": "code",
   "execution_count": 31,
   "metadata": {},
   "outputs": [
    {
     "data": {
      "text/html": [
       "<div>\n",
       "<style scoped>\n",
       "    .dataframe tbody tr th:only-of-type {\n",
       "        vertical-align: middle;\n",
       "    }\n",
       "\n",
       "    .dataframe tbody tr th {\n",
       "        vertical-align: top;\n",
       "    }\n",
       "\n",
       "    .dataframe thead th {\n",
       "        text-align: right;\n",
       "    }\n",
       "</style>\n",
       "<table border=\"1\" class=\"dataframe\">\n",
       "  <thead>\n",
       "    <tr style=\"text-align: right;\">\n",
       "      <th></th>\n",
       "      <th>state</th>\n",
       "      <th>numcol</th>\n",
       "      <th>yieldpercol</th>\n",
       "      <th>totalprod</th>\n",
       "      <th>stocks</th>\n",
       "      <th>priceperlb</th>\n",
       "      <th>prodvalue</th>\n",
       "      <th>year</th>\n",
       "      <th>StateName</th>\n",
       "      <th>Region</th>\n",
       "      <th>nCLOTHIANIDIN</th>\n",
       "      <th>nIMIDACLOPRID</th>\n",
       "      <th>nTHIAMETHOXAM</th>\n",
       "      <th>nACETAMIPRID</th>\n",
       "      <th>nTHIACLOPRID</th>\n",
       "      <th>nAllNeonic</th>\n",
       "    </tr>\n",
       "  </thead>\n",
       "  <tbody>\n",
       "    <tr>\n",
       "      <th>0</th>\n",
       "      <td>AL</td>\n",
       "      <td>11000.0</td>\n",
       "      <td>56</td>\n",
       "      <td>616000.0</td>\n",
       "      <td>209000.0</td>\n",
       "      <td>1.49</td>\n",
       "      <td>918000.0</td>\n",
       "      <td>2007</td>\n",
       "      <td>Alabama</td>\n",
       "      <td>South</td>\n",
       "      <td>7696.2</td>\n",
       "      <td>3258.1</td>\n",
       "      <td>4149.6</td>\n",
       "      <td>0.0</td>\n",
       "      <td>0.0</td>\n",
       "      <td>15103.9</td>\n",
       "    </tr>\n",
       "    <tr>\n",
       "      <th>1</th>\n",
       "      <td>AL</td>\n",
       "      <td>11000.0</td>\n",
       "      <td>72</td>\n",
       "      <td>792000.0</td>\n",
       "      <td>230000.0</td>\n",
       "      <td>1.21</td>\n",
       "      <td>958000.0</td>\n",
       "      <td>2006</td>\n",
       "      <td>Alabama</td>\n",
       "      <td>South</td>\n",
       "      <td>680.0</td>\n",
       "      <td>4230.2</td>\n",
       "      <td>5371.6</td>\n",
       "      <td>0.0</td>\n",
       "      <td>0.0</td>\n",
       "      <td>10281.8</td>\n",
       "    </tr>\n",
       "    <tr>\n",
       "      <th>2</th>\n",
       "      <td>AL</td>\n",
       "      <td>12000.0</td>\n",
       "      <td>86</td>\n",
       "      <td>1032000.0</td>\n",
       "      <td>103000.0</td>\n",
       "      <td>1.18</td>\n",
       "      <td>1218000.0</td>\n",
       "      <td>2002</td>\n",
       "      <td>Alabama</td>\n",
       "      <td>South</td>\n",
       "      <td>0.0</td>\n",
       "      <td>1178.8</td>\n",
       "      <td>840.4</td>\n",
       "      <td>0.0</td>\n",
       "      <td>0.0</td>\n",
       "      <td>2019.2</td>\n",
       "    </tr>\n",
       "    <tr>\n",
       "      <th>3</th>\n",
       "      <td>AL</td>\n",
       "      <td>12000.0</td>\n",
       "      <td>87</td>\n",
       "      <td>1044000.0</td>\n",
       "      <td>282000.0</td>\n",
       "      <td>1.41</td>\n",
       "      <td>1472000.0</td>\n",
       "      <td>2004</td>\n",
       "      <td>Alabama</td>\n",
       "      <td>South</td>\n",
       "      <td>2676.4</td>\n",
       "      <td>1323.9</td>\n",
       "      <td>3863.9</td>\n",
       "      <td>0.0</td>\n",
       "      <td>0.0</td>\n",
       "      <td>7864.2</td>\n",
       "    </tr>\n",
       "    <tr>\n",
       "      <th>4</th>\n",
       "      <td>AL</td>\n",
       "      <td>13000.0</td>\n",
       "      <td>66</td>\n",
       "      <td>858000.0</td>\n",
       "      <td>266000.0</td>\n",
       "      <td>1.02</td>\n",
       "      <td>875000.0</td>\n",
       "      <td>2005</td>\n",
       "      <td>Alabama</td>\n",
       "      <td>South</td>\n",
       "      <td>1503.6</td>\n",
       "      <td>994.5</td>\n",
       "      <td>5493.9</td>\n",
       "      <td>0.0</td>\n",
       "      <td>0.0</td>\n",
       "      <td>7992.0</td>\n",
       "    </tr>\n",
       "  </tbody>\n",
       "</table>\n",
       "</div>"
      ],
      "text/plain": [
       "  state   numcol  yieldpercol  totalprod    stocks  priceperlb  prodvalue   \n",
       "0    AL  11000.0           56   616000.0  209000.0        1.49   918000.0  \\\n",
       "1    AL  11000.0           72   792000.0  230000.0        1.21   958000.0   \n",
       "2    AL  12000.0           86  1032000.0  103000.0        1.18  1218000.0   \n",
       "3    AL  12000.0           87  1044000.0  282000.0        1.41  1472000.0   \n",
       "4    AL  13000.0           66   858000.0  266000.0        1.02   875000.0   \n",
       "\n",
       "   year StateName Region  nCLOTHIANIDIN  nIMIDACLOPRID  nTHIAMETHOXAM   \n",
       "0  2007   Alabama  South         7696.2         3258.1         4149.6  \\\n",
       "1  2006   Alabama  South          680.0         4230.2         5371.6   \n",
       "2  2002   Alabama  South            0.0         1178.8          840.4   \n",
       "3  2004   Alabama  South         2676.4         1323.9         3863.9   \n",
       "4  2005   Alabama  South         1503.6          994.5         5493.9   \n",
       "\n",
       "   nACETAMIPRID  nTHIACLOPRID  nAllNeonic  \n",
       "0           0.0           0.0     15103.9  \n",
       "1           0.0           0.0     10281.8  \n",
       "2           0.0           0.0      2019.2  \n",
       "3           0.0           0.0      7864.2  \n",
       "4           0.0           0.0      7992.0  "
      ]
     },
     "execution_count": 31,
     "metadata": {},
     "output_type": "execute_result"
    }
   ],
   "source": [
    "data.head()"
   ]
  },
  {
   "cell_type": "markdown",
   "metadata": {},
   "source": [
    "Observe que as listas de valores antigos e novos devem ter o mesmo tamanho."
   ]
  },
  {
   "cell_type": "markdown",
   "metadata": {},
   "source": [
    "### Um dicionário que mapeia valores novos e antigos\n",
    "\n",
    "Vamos fazer a mesma substituição do ponto anterior, mas usando um dicionário.\n",
    "\n",
    "Nesse caso, todas as ocorrências no DataFrame das chaves de dicionário serão substituídas pelos valores associados a essas chaves."
   ]
  },
  {
   "cell_type": "code",
   "execution_count": 33,
   "metadata": {},
   "outputs": [
    {
     "data": {
      "text/plain": [
       "{'AL': 'South_AL',\n",
       " 'AR': 'South_AR',\n",
       " 'AZ': 'West_AZ',\n",
       " 'CA': 'West_CA',\n",
       " 'CO': 'West_CO',\n",
       " 'FL': 'South_FL',\n",
       " 'GA': 'South_GA',\n",
       " 'HI': 'West_HI',\n",
       " 'IA': 'Midwest_IA',\n",
       " 'ID': 'West_ID',\n",
       " 'IL': 'Midwest_IL',\n",
       " 'IN': 'Midwest_IN',\n",
       " 'KS': 'Midwest_KS',\n",
       " 'KY': 'South_KY',\n",
       " 'LA': 'South_LA',\n",
       " 'MD': 'South_MD',\n",
       " 'ME': 'Northeast_ME',\n",
       " 'MI': 'Midwest_MI',\n",
       " 'MN': 'Midwest_MN',\n",
       " 'MO': 'Midwest_MO',\n",
       " 'MS': 'South_MS',\n",
       " 'MT': 'West_MT',\n",
       " 'NC': 'South_NC',\n",
       " 'ND': 'Midwest_ND',\n",
       " 'NE': 'Midwest_NE',\n",
       " 'NJ': 'Northeast_NJ',\n",
       " 'NM': 'West_NM',\n",
       " 'NV': 'West_NV',\n",
       " 'NY': 'Northeast_NY',\n",
       " 'OH': 'Midwest_OH',\n",
       " 'OK': 'South_OK',\n",
       " 'OR': 'West_OR',\n",
       " 'PA': 'Northeast_PA',\n",
       " 'SC': 'South_SC',\n",
       " 'SD': 'Midwest_SD',\n",
       " 'TN': 'South_TN',\n",
       " 'TX': 'South_TX',\n",
       " 'UT': 'West_UT',\n",
       " 'VA': 'South_VA',\n",
       " 'VT': 'Northeast_VT',\n",
       " 'WA': 'West_WA',\n",
       " 'WI': 'Midwest_WI',\n",
       " 'WV': 'South_WV',\n",
       " 'WY': 'West_WY'}"
      ]
     },
     "execution_count": 33,
     "metadata": {},
     "output_type": "execute_result"
    }
   ],
   "source": [
    "# O zip vai juntar dois valores e o dict vai criar um dicionário;\n",
    "mapping = dict(zip(valores_antigos, valores_novos))\n",
    "mapping"
   ]
  },
  {
   "cell_type": "code",
   "execution_count": 34,
   "metadata": {},
   "outputs": [
    {
     "data": {
      "text/html": [
       "<div>\n",
       "<style scoped>\n",
       "    .dataframe tbody tr th:only-of-type {\n",
       "        vertical-align: middle;\n",
       "    }\n",
       "\n",
       "    .dataframe tbody tr th {\n",
       "        vertical-align: top;\n",
       "    }\n",
       "\n",
       "    .dataframe thead th {\n",
       "        text-align: right;\n",
       "    }\n",
       "</style>\n",
       "<table border=\"1\" class=\"dataframe\">\n",
       "  <thead>\n",
       "    <tr style=\"text-align: right;\">\n",
       "      <th></th>\n",
       "      <th>state</th>\n",
       "      <th>numcol</th>\n",
       "      <th>yieldpercol</th>\n",
       "      <th>totalprod</th>\n",
       "      <th>stocks</th>\n",
       "      <th>priceperlb</th>\n",
       "      <th>prodvalue</th>\n",
       "      <th>year</th>\n",
       "      <th>StateName</th>\n",
       "      <th>Region</th>\n",
       "      <th>nCLOTHIANIDIN</th>\n",
       "      <th>nIMIDACLOPRID</th>\n",
       "      <th>nTHIAMETHOXAM</th>\n",
       "      <th>nACETAMIPRID</th>\n",
       "      <th>nTHIACLOPRID</th>\n",
       "      <th>nAllNeonic</th>\n",
       "    </tr>\n",
       "  </thead>\n",
       "  <tbody>\n",
       "    <tr>\n",
       "      <th>387</th>\n",
       "      <td>South_MS</td>\n",
       "      <td>14000.0</td>\n",
       "      <td>104</td>\n",
       "      <td>1456000.0</td>\n",
       "      <td>87000.0</td>\n",
       "      <td>1.32</td>\n",
       "      <td>1922000.0</td>\n",
       "      <td>2009</td>\n",
       "      <td>Mississippi</td>\n",
       "      <td>South</td>\n",
       "      <td>3800.9</td>\n",
       "      <td>9380.4</td>\n",
       "      <td>13751.7</td>\n",
       "      <td>743.6</td>\n",
       "      <td>0.0</td>\n",
       "      <td>27676.6</td>\n",
       "    </tr>\n",
       "    <tr>\n",
       "      <th>359</th>\n",
       "      <td>Midwest_MN</td>\n",
       "      <td>130000.0</td>\n",
       "      <td>68</td>\n",
       "      <td>8840000.0</td>\n",
       "      <td>2564000.0</td>\n",
       "      <td>1.04</td>\n",
       "      <td>9194000.0</td>\n",
       "      <td>2007</td>\n",
       "      <td>Minnesota</td>\n",
       "      <td>Midwest</td>\n",
       "      <td>28186.4</td>\n",
       "      <td>5190.5</td>\n",
       "      <td>13464.7</td>\n",
       "      <td>0.0</td>\n",
       "      <td>0.0</td>\n",
       "      <td>46841.6</td>\n",
       "    </tr>\n",
       "    <tr>\n",
       "      <th>156</th>\n",
       "      <td>West_HI</td>\n",
       "      <td>8000.0</td>\n",
       "      <td>87</td>\n",
       "      <td>696000.0</td>\n",
       "      <td>84000.0</td>\n",
       "      <td>0.87</td>\n",
       "      <td>606000.0</td>\n",
       "      <td>2001</td>\n",
       "      <td>Hawaii</td>\n",
       "      <td>West</td>\n",
       "      <td>NaN</td>\n",
       "      <td>NaN</td>\n",
       "      <td>NaN</td>\n",
       "      <td>NaN</td>\n",
       "      <td>NaN</td>\n",
       "      <td>NaN</td>\n",
       "    </tr>\n",
       "    <tr>\n",
       "      <th>769</th>\n",
       "      <td>Midwest_WI</td>\n",
       "      <td>57000.0</td>\n",
       "      <td>63</td>\n",
       "      <td>3591000.0</td>\n",
       "      <td>1508000.0</td>\n",
       "      <td>1.89</td>\n",
       "      <td>6787000.0</td>\n",
       "      <td>2011</td>\n",
       "      <td>Wisconsin</td>\n",
       "      <td>Midwest</td>\n",
       "      <td>24781.5</td>\n",
       "      <td>6481.0</td>\n",
       "      <td>14983.6</td>\n",
       "      <td>73.6</td>\n",
       "      <td>0.0</td>\n",
       "      <td>46319.7</td>\n",
       "    </tr>\n",
       "    <tr>\n",
       "      <th>340</th>\n",
       "      <td>Midwest_MI</td>\n",
       "      <td>80000.0</td>\n",
       "      <td>85</td>\n",
       "      <td>6800000.0</td>\n",
       "      <td>3672000.0</td>\n",
       "      <td>0.66</td>\n",
       "      <td>4488000.0</td>\n",
       "      <td>1998</td>\n",
       "      <td>Michigan</td>\n",
       "      <td>Midwest</td>\n",
       "      <td>0.0</td>\n",
       "      <td>5238.3</td>\n",
       "      <td>0.0</td>\n",
       "      <td>0.0</td>\n",
       "      <td>0.0</td>\n",
       "      <td>5238.3</td>\n",
       "    </tr>\n",
       "    <tr>\n",
       "      <th>728</th>\n",
       "      <td>Northeast_VT</td>\n",
       "      <td>4000.0</td>\n",
       "      <td>60</td>\n",
       "      <td>240000.0</td>\n",
       "      <td>53000.0</td>\n",
       "      <td>2.39</td>\n",
       "      <td>574000.0</td>\n",
       "      <td>2012</td>\n",
       "      <td>Vermont</td>\n",
       "      <td>Northeast</td>\n",
       "      <td>510.0</td>\n",
       "      <td>72.9</td>\n",
       "      <td>80.6</td>\n",
       "      <td>42.2</td>\n",
       "      <td>93.8</td>\n",
       "      <td>799.5</td>\n",
       "    </tr>\n",
       "    <tr>\n",
       "      <th>0</th>\n",
       "      <td>South_AL</td>\n",
       "      <td>11000.0</td>\n",
       "      <td>56</td>\n",
       "      <td>616000.0</td>\n",
       "      <td>209000.0</td>\n",
       "      <td>1.49</td>\n",
       "      <td>918000.0</td>\n",
       "      <td>2007</td>\n",
       "      <td>Alabama</td>\n",
       "      <td>South</td>\n",
       "      <td>7696.2</td>\n",
       "      <td>3258.1</td>\n",
       "      <td>4149.6</td>\n",
       "      <td>0.0</td>\n",
       "      <td>0.0</td>\n",
       "      <td>15103.9</td>\n",
       "    </tr>\n",
       "  </tbody>\n",
       "</table>\n",
       "</div>"
      ],
      "text/plain": [
       "            state    numcol  yieldpercol  totalprod     stocks  priceperlb   \n",
       "387      South_MS   14000.0          104  1456000.0    87000.0        1.32  \\\n",
       "359    Midwest_MN  130000.0           68  8840000.0  2564000.0        1.04   \n",
       "156       West_HI    8000.0           87   696000.0    84000.0        0.87   \n",
       "769    Midwest_WI   57000.0           63  3591000.0  1508000.0        1.89   \n",
       "340    Midwest_MI   80000.0           85  6800000.0  3672000.0        0.66   \n",
       "728  Northeast_VT    4000.0           60   240000.0    53000.0        2.39   \n",
       "0        South_AL   11000.0           56   616000.0   209000.0        1.49   \n",
       "\n",
       "     prodvalue  year    StateName     Region  nCLOTHIANIDIN  nIMIDACLOPRID   \n",
       "387  1922000.0  2009  Mississippi      South         3800.9         9380.4  \\\n",
       "359  9194000.0  2007    Minnesota    Midwest        28186.4         5190.5   \n",
       "156   606000.0  2001       Hawaii       West            NaN            NaN   \n",
       "769  6787000.0  2011    Wisconsin    Midwest        24781.5         6481.0   \n",
       "340  4488000.0  1998     Michigan    Midwest            0.0         5238.3   \n",
       "728   574000.0  2012      Vermont  Northeast          510.0           72.9   \n",
       "0     918000.0  2007      Alabama      South         7696.2         3258.1   \n",
       "\n",
       "     nTHIAMETHOXAM  nACETAMIPRID  nTHIACLOPRID  nAllNeonic  \n",
       "387        13751.7         743.6           0.0     27676.6  \n",
       "359        13464.7           0.0           0.0     46841.6  \n",
       "156            NaN           NaN           NaN         NaN  \n",
       "769        14983.6          73.6           0.0     46319.7  \n",
       "340            0.0           0.0           0.0      5238.3  \n",
       "728           80.6          42.2          93.8       799.5  \n",
       "0           4149.6           0.0           0.0     15103.9  "
      ]
     },
     "execution_count": 34,
     "metadata": {},
     "output_type": "execute_result"
    }
   ],
   "source": [
    "data_dict = data.replace(mapping)\n",
    "data_dict.sample(7)"
   ]
  },
  {
   "cell_type": "markdown",
   "metadata": {},
   "source": [
    "## Renomear índices \n",
    "\n",
    "O método [`pandas.DataFrame.rename()`](https://pandas.pydata.org/pandas-docs/stable/reference/api/pandas.DataFrame.rename.html) nos permite alterar os rótulos dos eixos.\n",
    "\n",
    "O primeiro argumento `mapper` é um dicionário que contém os rótulos a serem substituídos como chaves e os rótulos de substituição como valores.\n",
    "\n",
    "O argumento `axis` indica se a substituição é sobre o índice ou sobre as colunas.\n",
    "\n",
    "O argumento `index` é um dicionário. `mapper, axis = 0` é equivalente a` index = mapper`.\n",
    "\n",
    "O argumento `colunas` é um dicionário. `mapper, axis = 1` é equivalente a` colunas = mapper`."
   ]
  },
  {
   "cell_type": "markdown",
   "metadata": {},
   "source": [
    "Vamos renomear duas colunas usando os argumentos mapper e axis:"
   ]
  },
  {
   "cell_type": "code",
   "execution_count": 35,
   "metadata": {},
   "outputs": [
    {
     "name": "stdout",
     "output_type": "stream",
     "text": [
      "Index(['state', 'numcol', 'yieldpercol', 'totalprod', 'stocks', 'priceperlb',\n",
      "       'prodvalue', 'year', 'StateName', 'Region', 'nCLOTHIANIDIN',\n",
      "       'nIMIDACLOPRID', 'nTHIAMETHOXAM', 'nACETAMIPRID', 'nTHIACLOPRID',\n",
      "       'nAllNeonic'],\n",
      "      dtype='object')\n",
      "Index(['state', 'numcol', 'yieldpercol', 'totalprod', 'stocks', 'priceperlb',\n",
      "       'prodvalue', 'year', 'StateName', 'Region', 'nCLOTHIANIDIN',\n",
      "       'nimidacloprid', 'nthiamethoxam', 'nACETAMIPRID', 'nTHIACLOPRID',\n",
      "       'nAllNeonic'],\n",
      "      dtype='object')\n"
     ]
    }
   ],
   "source": [
    "mapper = {\n",
    "    'nIMIDACLOPRID': 'nimidacloprid', \n",
    "    'nTHIAMETHOXAM': 'nthiamethoxam'    \n",
    "}\n",
    "data_renamed_cols = data.rename(mapper, axis = 1)\n",
    "print(data.columns)\n",
    "print(data_renamed_cols.columns)"
   ]
  },
  {
   "cell_type": "markdown",
   "metadata": {},
   "source": [
    "Vamos repetir usando o argumento de colunas:"
   ]
  },
  {
   "cell_type": "code",
   "execution_count": 36,
   "metadata": {},
   "outputs": [
    {
     "name": "stdout",
     "output_type": "stream",
     "text": [
      "Index(['state', 'numcol', 'yieldpercol', 'totalprod', 'stocks', 'priceperlb',\n",
      "       'prodvalue', 'year', 'StateName', 'Region', 'nCLOTHIANIDIN',\n",
      "       'nIMIDACLOPRID', 'nTHIAMETHOXAM', 'nACETAMIPRID', 'nTHIACLOPRID',\n",
      "       'nAllNeonic'],\n",
      "      dtype='object')\n",
      "Index(['state', 'numcol', 'yieldpercol', 'totalprod', 'stocks', 'priceperlb',\n",
      "       'prodvalue', 'year', 'StateName', 'Region', 'nCLOTHIANIDIN',\n",
      "       'nimidacloprid', 'nthiamethoxam', 'nACETAMIPRID', 'nTHIACLOPRID',\n",
      "       'nAllNeonic'],\n",
      "      dtype='object')\n"
     ]
    }
   ],
   "source": [
    "data_renamed_cols_2 = data.rename(columns = mapper)\n",
    "print(data.columns)\n",
    "print(data_renamed_cols_2.columns)"
   ]
  },
  {
   "cell_type": "markdown",
   "metadata": {},
   "source": [
    "Observe que apenas as colunas (ou índices) que são especificados no dicionário de mapeamento são modificados. Não é necessário incluir aqueles que não queremos renomear."
   ]
  },
  {
   "cell_type": "markdown",
   "metadata": {},
   "source": [
    "## Discretização e binarização de variáveis\n",
    "\n",
    "O processo de transformação de uma variável numérica em categórica é denominado discretização.\n",
    "\n",
    "O método [`pandas.cut()`](https://pandas.pydata.org/pandas-docs/stable/reference/api/pandas.cut.html) separa os valores em intervalos discretos, retornando o intervalo semifechado ao qual cada valor pertence. Ele permite transformar variáveis contínuas em variáveis categóricas.\n",
    "\n",
    "O argumento `bins` pode ser um número inteiro que indica o número de intervalos de \"largura\" a serem construídos, ou pode ser uma lista na qual especificamos os limites de cada categoria.\n",
    "\n",
    "O argumento `right` indica se o intervalo inclui o valor limite correto."
   ]
  },
  {
   "cell_type": "markdown",
   "metadata": {},
   "source": [
    "Queremos definir categorias na variável `numcol` que representa o número de colônias em produção.\n",
    "\n",
    "Vamos ver algumas estatísticas sobre esta variável."
   ]
  },
  {
   "cell_type": "code",
   "execution_count": 37,
   "metadata": {},
   "outputs": [
    {
     "data": {
      "text/html": [
       "<div>\n",
       "<style scoped>\n",
       "    .dataframe tbody tr th:only-of-type {\n",
       "        vertical-align: middle;\n",
       "    }\n",
       "\n",
       "    .dataframe tbody tr th {\n",
       "        vertical-align: top;\n",
       "    }\n",
       "\n",
       "    .dataframe thead th {\n",
       "        text-align: right;\n",
       "    }\n",
       "</style>\n",
       "<table border=\"1\" class=\"dataframe\">\n",
       "  <thead>\n",
       "    <tr style=\"text-align: right;\">\n",
       "      <th></th>\n",
       "      <th>state</th>\n",
       "      <th>numcol</th>\n",
       "      <th>yieldpercol</th>\n",
       "      <th>totalprod</th>\n",
       "      <th>stocks</th>\n",
       "      <th>priceperlb</th>\n",
       "      <th>prodvalue</th>\n",
       "      <th>year</th>\n",
       "      <th>StateName</th>\n",
       "      <th>Region</th>\n",
       "      <th>nCLOTHIANIDIN</th>\n",
       "      <th>nIMIDACLOPRID</th>\n",
       "      <th>nTHIAMETHOXAM</th>\n",
       "      <th>nACETAMIPRID</th>\n",
       "      <th>nTHIACLOPRID</th>\n",
       "      <th>nAllNeonic</th>\n",
       "    </tr>\n",
       "  </thead>\n",
       "  <tbody>\n",
       "    <tr>\n",
       "      <th>0</th>\n",
       "      <td>AL</td>\n",
       "      <td>11000.0</td>\n",
       "      <td>56</td>\n",
       "      <td>616000.0</td>\n",
       "      <td>209000.0</td>\n",
       "      <td>1.49</td>\n",
       "      <td>918000.0</td>\n",
       "      <td>2007</td>\n",
       "      <td>Alabama</td>\n",
       "      <td>South</td>\n",
       "      <td>7696.2</td>\n",
       "      <td>3258.1</td>\n",
       "      <td>4149.6</td>\n",
       "      <td>0.0</td>\n",
       "      <td>0.0</td>\n",
       "      <td>15103.9</td>\n",
       "    </tr>\n",
       "    <tr>\n",
       "      <th>1</th>\n",
       "      <td>AL</td>\n",
       "      <td>11000.0</td>\n",
       "      <td>72</td>\n",
       "      <td>792000.0</td>\n",
       "      <td>230000.0</td>\n",
       "      <td>1.21</td>\n",
       "      <td>958000.0</td>\n",
       "      <td>2006</td>\n",
       "      <td>Alabama</td>\n",
       "      <td>South</td>\n",
       "      <td>680.0</td>\n",
       "      <td>4230.2</td>\n",
       "      <td>5371.6</td>\n",
       "      <td>0.0</td>\n",
       "      <td>0.0</td>\n",
       "      <td>10281.8</td>\n",
       "    </tr>\n",
       "    <tr>\n",
       "      <th>2</th>\n",
       "      <td>AL</td>\n",
       "      <td>12000.0</td>\n",
       "      <td>86</td>\n",
       "      <td>1032000.0</td>\n",
       "      <td>103000.0</td>\n",
       "      <td>1.18</td>\n",
       "      <td>1218000.0</td>\n",
       "      <td>2002</td>\n",
       "      <td>Alabama</td>\n",
       "      <td>South</td>\n",
       "      <td>0.0</td>\n",
       "      <td>1178.8</td>\n",
       "      <td>840.4</td>\n",
       "      <td>0.0</td>\n",
       "      <td>0.0</td>\n",
       "      <td>2019.2</td>\n",
       "    </tr>\n",
       "    <tr>\n",
       "      <th>3</th>\n",
       "      <td>AL</td>\n",
       "      <td>12000.0</td>\n",
       "      <td>87</td>\n",
       "      <td>1044000.0</td>\n",
       "      <td>282000.0</td>\n",
       "      <td>1.41</td>\n",
       "      <td>1472000.0</td>\n",
       "      <td>2004</td>\n",
       "      <td>Alabama</td>\n",
       "      <td>South</td>\n",
       "      <td>2676.4</td>\n",
       "      <td>1323.9</td>\n",
       "      <td>3863.9</td>\n",
       "      <td>0.0</td>\n",
       "      <td>0.0</td>\n",
       "      <td>7864.2</td>\n",
       "    </tr>\n",
       "    <tr>\n",
       "      <th>4</th>\n",
       "      <td>AL</td>\n",
       "      <td>13000.0</td>\n",
       "      <td>66</td>\n",
       "      <td>858000.0</td>\n",
       "      <td>266000.0</td>\n",
       "      <td>1.02</td>\n",
       "      <td>875000.0</td>\n",
       "      <td>2005</td>\n",
       "      <td>Alabama</td>\n",
       "      <td>South</td>\n",
       "      <td>1503.6</td>\n",
       "      <td>994.5</td>\n",
       "      <td>5493.9</td>\n",
       "      <td>0.0</td>\n",
       "      <td>0.0</td>\n",
       "      <td>7992.0</td>\n",
       "    </tr>\n",
       "  </tbody>\n",
       "</table>\n",
       "</div>"
      ],
      "text/plain": [
       "  state   numcol  yieldpercol  totalprod    stocks  priceperlb  prodvalue   \n",
       "0    AL  11000.0           56   616000.0  209000.0        1.49   918000.0  \\\n",
       "1    AL  11000.0           72   792000.0  230000.0        1.21   958000.0   \n",
       "2    AL  12000.0           86  1032000.0  103000.0        1.18  1218000.0   \n",
       "3    AL  12000.0           87  1044000.0  282000.0        1.41  1472000.0   \n",
       "4    AL  13000.0           66   858000.0  266000.0        1.02   875000.0   \n",
       "\n",
       "   year StateName Region  nCLOTHIANIDIN  nIMIDACLOPRID  nTHIAMETHOXAM   \n",
       "0  2007   Alabama  South         7696.2         3258.1         4149.6  \\\n",
       "1  2006   Alabama  South          680.0         4230.2         5371.6   \n",
       "2  2002   Alabama  South            0.0         1178.8          840.4   \n",
       "3  2004   Alabama  South         2676.4         1323.9         3863.9   \n",
       "4  2005   Alabama  South         1503.6          994.5         5493.9   \n",
       "\n",
       "   nACETAMIPRID  nTHIACLOPRID  nAllNeonic  \n",
       "0           0.0           0.0     15103.9  \n",
       "1           0.0           0.0     10281.8  \n",
       "2           0.0           0.0      2019.2  \n",
       "3           0.0           0.0      7864.2  \n",
       "4           0.0           0.0      7992.0  "
      ]
     },
     "execution_count": 37,
     "metadata": {},
     "output_type": "execute_result"
    }
   ],
   "source": [
    "data.head()"
   ]
  },
  {
   "cell_type": "code",
   "execution_count": 38,
   "metadata": {},
   "outputs": [
    {
     "data": {
      "text/plain": [
       "count       825.00000\n",
       "mean      61889.69697\n",
       "std       92857.22783\n",
       "min        2000.00000\n",
       "25%        9000.00000\n",
       "50%       26000.00000\n",
       "75%       65000.00000\n",
       "max      510000.00000\n",
       "Name: numcol, dtype: float64"
      ]
     },
     "execution_count": 38,
     "metadata": {},
     "output_type": "execute_result"
    }
   ],
   "source": [
    "data.numcol.describe()"
   ]
  },
  {
   "cell_type": "markdown",
   "metadata": {},
   "source": [
    "Vemos que o mínimo é 2.000 e o máximo é 510.000.\n",
    "\n",
    "Vamos definir essas categorias:\n",
    "* entre 2.000 e 10.000\n",
    "* entre 10.000 e 300.000\n",
    "* entre 300.000 e 65.000\n",
    "* mais de 65.000\n",
    "\n",
    "Para isso, construímos a lista de bins com esses valores"
   ]
  },
  {
   "cell_type": "code",
   "execution_count": 39,
   "metadata": {},
   "outputs": [
    {
     "data": {
      "text/plain": [
       "CategoricalDtype(categories=[[2000, 10000), [10000, 30000), [30000, 65000), [65000, 600000)], ordered=True)"
      ]
     },
     "execution_count": 39,
     "metadata": {},
     "output_type": "execute_result"
    }
   ],
   "source": [
    "# Defino os valores de corte\n",
    "bins = [2000, 10000, 30000, 65000, 600000]\n",
    "\n",
    "numcol_categories = pd.cut(data.numcol, \n",
    "                           bins, \n",
    "                           right = False\n",
    "                          )\n",
    "numcol_categories.dtype"
   ]
  },
  {
   "cell_type": "markdown",
   "metadata": {},
   "source": [
    "E como esta variável é categórica, podemos usar o método `value_counts` para saber quantos registros existem em cada categoria.\n",
    "\n",
    "O que acontece se usarmos `value_counts` sobre` data.numcol`?"
   ]
  },
  {
   "cell_type": "code",
   "execution_count": 40,
   "metadata": {},
   "outputs": [
    {
     "data": {
      "text/plain": [
       "numcol\n",
       "[10000, 30000)     228\n",
       "[2000, 10000)      215\n",
       "[65000, 600000)    211\n",
       "[30000, 65000)     171\n",
       "Name: count, dtype: int64"
      ]
     },
     "execution_count": 40,
     "metadata": {},
     "output_type": "execute_result"
    }
   ],
   "source": [
    "numcol_categories.value_counts()"
   ]
  },
  {
   "cell_type": "markdown",
   "metadata": {},
   "source": [
    "Criamos categorias com rótulos associados usando o argumento `labels`."
   ]
  },
  {
   "cell_type": "code",
   "execution_count": 41,
   "metadata": {},
   "outputs": [
    {
     "data": {
      "text/plain": [
       "numcol\n",
       "muito poucas    240\n",
       "poucas          210\n",
       "muitas          203\n",
       "normal          171\n",
       "Name: count, dtype: int64"
      ]
     },
     "execution_count": 41,
     "metadata": {},
     "output_type": "execute_result"
    }
   ],
   "source": [
    "group_labels = ['muito poucas', 'poucas', 'normal', 'muitas' ]\n",
    "numcol_categories_labels = pd.cut(data.numcol, \n",
    "                                  bins, \n",
    "                                  labels = group_labels\n",
    "                                 )\n",
    "numcol_categories_labels.value_counts()"
   ]
  },
  {
   "cell_type": "markdown",
   "metadata": {},
   "source": [
    "### Quantil\n",
    "\n",
    "Uma alternativa para especificar arbitrariamente os limites dos intervalos é usar quantis.\n",
    "\n",
    "Por definição, em cada um desses conjuntos haverá o mesmo número de elementos.\n",
    "\n",
    "O pandas fornece o método [`pandas.qcut`](https://pandas.pydata.org/pandas-docs/stable/reference/api/pandas.qcut.html) para construí-los."
   ]
  },
  {
   "cell_type": "markdown",
   "metadata": {},
   "source": [
    "Usando `qcut` vamos construir quatro categorias para os valores de `data.numcol`\n",
    "\n",
    "Definir o valor do argumento `retbins` como True retorna as categorias e os valores de limite dos bins construídos."
   ]
  },
  {
   "cell_type": "code",
   "execution_count": 42,
   "metadata": {},
   "outputs": [
    {
     "data": {
      "text/plain": [
       "numcol\n",
       "muito poucas    215\n",
       "normal          205\n",
       "muitas          203\n",
       "poucas          202\n",
       "Name: count, dtype: int64"
      ]
     },
     "execution_count": 42,
     "metadata": {},
     "output_type": "execute_result"
    }
   ],
   "source": [
    "numcol_qcategories, numcol_qbins = pd.qcut(data.numcol, 4, labels = group_labels, retbins = True)\n",
    "numcol_qcategories.value_counts()"
   ]
  },
  {
   "cell_type": "code",
   "execution_count": 43,
   "metadata": {},
   "outputs": [
    {
     "data": {
      "text/plain": [
       "array([  2000.,   9000.,  26000.,  65000., 510000.])"
      ]
     },
     "execution_count": 43,
     "metadata": {},
     "output_type": "execute_result"
    }
   ],
   "source": [
    "numcol_qbins"
   ]
  },
  {
   "cell_type": "markdown",
   "metadata": {},
   "source": [
    "## Mapeamento e transformação de dados\n",
    "\n",
    "A partir de um dicionário, podemos criar uma nova coluna em um Dataframe onde:\n",
    "\n",
    "1) as chaves de dicionário estão vinculadas com a Series de valores de uma coluna do DataFrame original\n",
    "\n",
    "2) e para cada registro o valor do dicionário cuja chave é o valor da Series 1) naquele registro é atribuído na nova coluna.\n",
    "\n",
    "**Exercício**:\n",
    "\n",
    "Usando um dicionário, vamos alterar os valores das categorias definidas no exercício anterior para numcol, para todos os registros de dados."
   ]
  },
  {
   "cell_type": "markdown",
   "metadata": {},
   "source": [
    "Adicionamos as categorias numcol associadas a cada registro aos dados do DataFrame."
   ]
  },
  {
   "cell_type": "code",
   "execution_count": 44,
   "metadata": {},
   "outputs": [
    {
     "name": "stdout",
     "output_type": "stream",
     "text": [
      "Index(['state', 'numcol', 'yieldpercol', 'totalprod', 'stocks', 'priceperlb',\n",
      "       'prodvalue', 'year', 'StateName', 'Region', 'nCLOTHIANIDIN',\n",
      "       'nIMIDACLOPRID', 'nTHIAMETHOXAM', 'nACETAMIPRID', 'nTHIACLOPRID',\n",
      "       'nAllNeonic', 'numcol'],\n",
      "      dtype='object')\n",
      "(825, 16)\n",
      "(825, 17)\n"
     ]
    }
   ],
   "source": [
    "# renomeia a Series para que não haja duas colunas com o mesmo nome como resultado do concat:numcol_qcategories.name = \"numcol_cat\"\n",
    "data_numcol_cat = pd.concat([data, numcol_qcategories], axis = 1, )\n",
    "print(data_numcol_cat.columns)\n",
    "print(data.shape)\n",
    "print(data_numcol_cat.shape)"
   ]
  },
  {
   "cell_type": "markdown",
   "metadata": {},
   "source": [
    "Vamos construir um dicionário que defina esse mapeamento e usar esse dicionário para alterar os valores originais\n",
    "    \n",
    "* poucos -> insuficiente\n",
    "* muito poucos -> insuficiente\n",
    "* normal -> suficiente\n",
    "* muitos -> suficiente\n",
    "\n",
    "As chaves estão associadas à coluna `numcol_cat` e os novos valores de cada registro serão determinados pelo valor desse registro na coluna` numcol_cat` e o mapeamento definido pelo dicionário."
   ]
  },
  {
   "cell_type": "code",
   "execution_count": 45,
   "metadata": {},
   "outputs": [],
   "source": [
    "numcol_cat_mapper = {\n",
    "   'poucas': 'insuficiente', \n",
    "    'muito poucas': 'insuficiente',\n",
    "    'normal': 'suficiente',\n",
    "    'muitas': 'suficiente'\n",
    "}"
   ]
  },
  {
   "cell_type": "code",
   "execution_count": 46,
   "metadata": {},
   "outputs": [],
   "source": [
    "data['numcol_cat'] = numcol_categories_labels"
   ]
  },
  {
   "cell_type": "code",
   "execution_count": 47,
   "metadata": {},
   "outputs": [
    {
     "data": {
      "text/plain": [
       "0      insuficiente\n",
       "1      insuficiente\n",
       "2      insuficiente\n",
       "3      insuficiente\n",
       "4      insuficiente\n",
       "           ...     \n",
       "820      suficiente\n",
       "821      suficiente\n",
       "822      suficiente\n",
       "823      suficiente\n",
       "824      suficiente\n",
       "Name: numcol_cat, Length: 825, dtype: object"
      ]
     },
     "execution_count": 47,
     "metadata": {},
     "output_type": "execute_result"
    }
   ],
   "source": [
    "data['numcol_cat'].map(numcol_cat_mapper)"
   ]
  },
  {
   "cell_type": "markdown",
   "metadata": {},
   "source": [
    "Observe que aplicamos map em uma coluna, não em todo o DataFrame como fazemos com o método `replace`."
   ]
  },
  {
   "cell_type": "code",
   "execution_count": 48,
   "metadata": {},
   "outputs": [
    {
     "data": {
      "text/plain": [
       "numcol_cat\n",
       "insuficiente    450\n",
       "suficiente      374\n",
       "Name: count, dtype: int64"
      ]
     },
     "execution_count": 48,
     "metadata": {},
     "output_type": "execute_result"
    }
   ],
   "source": [
    "data['numcol_cat'].map(numcol_cat_mapper).value_counts()"
   ]
  },
  {
   "cell_type": "markdown",
   "metadata": {},
   "source": [
    "## Variáveis categóricas e dummies\n",
    "\n",
    "O Pandas fornece o método `pd.get_dummies` que recebe uma Serie ou uma lista de Series e executa uma codificação dinâmica.\n",
    "\n",
    "Lembre-se de que uma variável com k categorias pode ser representada com k-1 variáveis.\n",
    "\n",
    "Portanto, um parâmetro-chave de pd.get_dummies é drop_first = True, que gera categorias k-1 em vez de k.\n",
    "\n",
    "O argumento prefix permite-nos estabelecer um prefixo para o nome de cada uma das colunas da categoria que representam a variável. Este argumento é especialmente útil ao construir dummies de mais de uma coluna em um DataFrame, para evitar confusão sobre qual é a variável original que corresponde a cada coluna de categoria."
   ]
  },
  {
   "cell_type": "markdown",
   "metadata": {},
   "source": [
    "O Pandas fornece um método `pd.get_dummies` que recebe uma Serie ou uma lista de Series e executa uma codificação dinâmica."
   ]
  },
  {
   "cell_type": "code",
   "execution_count": 50,
   "metadata": {},
   "outputs": [
    {
     "data": {
      "text/plain": [
       "0      poucas\n",
       "1      poucas\n",
       "2      poucas\n",
       "3      poucas\n",
       "4      poucas\n",
       "        ...  \n",
       "820    normal\n",
       "821    normal\n",
       "822    normal\n",
       "823    normal\n",
       "824    normal\n",
       "Name: numcol, Length: 825, dtype: category\n",
       "Categories (4, object): ['muito poucas' < 'poucas' < 'normal' < 'muitas']"
      ]
     },
     "execution_count": 50,
     "metadata": {},
     "output_type": "execute_result"
    }
   ],
   "source": [
    "numcol_qcategories"
   ]
  },
  {
   "cell_type": "code",
   "execution_count": 51,
   "metadata": {},
   "outputs": [
    {
     "data": {
      "text/html": [
       "<div>\n",
       "<style scoped>\n",
       "    .dataframe tbody tr th:only-of-type {\n",
       "        vertical-align: middle;\n",
       "    }\n",
       "\n",
       "    .dataframe tbody tr th {\n",
       "        vertical-align: top;\n",
       "    }\n",
       "\n",
       "    .dataframe thead th {\n",
       "        text-align: right;\n",
       "    }\n",
       "</style>\n",
       "<table border=\"1\" class=\"dataframe\">\n",
       "  <thead>\n",
       "    <tr style=\"text-align: right;\">\n",
       "      <th></th>\n",
       "      <th>numcol_poucas</th>\n",
       "      <th>numcol_normal</th>\n",
       "      <th>numcol_muitas</th>\n",
       "    </tr>\n",
       "  </thead>\n",
       "  <tbody>\n",
       "    <tr>\n",
       "      <th>0</th>\n",
       "      <td>True</td>\n",
       "      <td>False</td>\n",
       "      <td>False</td>\n",
       "    </tr>\n",
       "    <tr>\n",
       "      <th>1</th>\n",
       "      <td>True</td>\n",
       "      <td>False</td>\n",
       "      <td>False</td>\n",
       "    </tr>\n",
       "    <tr>\n",
       "      <th>2</th>\n",
       "      <td>True</td>\n",
       "      <td>False</td>\n",
       "      <td>False</td>\n",
       "    </tr>\n",
       "    <tr>\n",
       "      <th>3</th>\n",
       "      <td>True</td>\n",
       "      <td>False</td>\n",
       "      <td>False</td>\n",
       "    </tr>\n",
       "    <tr>\n",
       "      <th>4</th>\n",
       "      <td>True</td>\n",
       "      <td>False</td>\n",
       "      <td>False</td>\n",
       "    </tr>\n",
       "    <tr>\n",
       "      <th>...</th>\n",
       "      <td>...</td>\n",
       "      <td>...</td>\n",
       "      <td>...</td>\n",
       "    </tr>\n",
       "    <tr>\n",
       "      <th>820</th>\n",
       "      <td>False</td>\n",
       "      <td>True</td>\n",
       "      <td>False</td>\n",
       "    </tr>\n",
       "    <tr>\n",
       "      <th>821</th>\n",
       "      <td>False</td>\n",
       "      <td>True</td>\n",
       "      <td>False</td>\n",
       "    </tr>\n",
       "    <tr>\n",
       "      <th>822</th>\n",
       "      <td>False</td>\n",
       "      <td>True</td>\n",
       "      <td>False</td>\n",
       "    </tr>\n",
       "    <tr>\n",
       "      <th>823</th>\n",
       "      <td>False</td>\n",
       "      <td>True</td>\n",
       "      <td>False</td>\n",
       "    </tr>\n",
       "    <tr>\n",
       "      <th>824</th>\n",
       "      <td>False</td>\n",
       "      <td>True</td>\n",
       "      <td>False</td>\n",
       "    </tr>\n",
       "  </tbody>\n",
       "</table>\n",
       "<p>825 rows × 3 columns</p>\n",
       "</div>"
      ],
      "text/plain": [
       "     numcol_poucas  numcol_normal  numcol_muitas\n",
       "0             True          False          False\n",
       "1             True          False          False\n",
       "2             True          False          False\n",
       "3             True          False          False\n",
       "4             True          False          False\n",
       "..             ...            ...            ...\n",
       "820          False           True          False\n",
       "821          False           True          False\n",
       "822          False           True          False\n",
       "823          False           True          False\n",
       "824          False           True          False\n",
       "\n",
       "[825 rows x 3 columns]"
      ]
     },
     "execution_count": 51,
     "metadata": {},
     "output_type": "execute_result"
    }
   ],
   "source": [
    "numcol_qcategories_dummies = pd.get_dummies(numcol_qcategories, \n",
    "                                            drop_first = True, \n",
    "                                            prefix = 'numcol'\n",
    "                                           )\n",
    "numcol_qcategories_dummies"
   ]
  },
  {
   "cell_type": "markdown",
   "metadata": {},
   "source": [
    "Observe que ele removeu a primeira categoria \"muito poucas\"."
   ]
  },
  {
   "cell_type": "markdown",
   "metadata": {},
   "source": [
    "## Alguns métodos da classe string\n",
    "\n",
    "(Esses métodos já foram apresentados na aula de limpeza de dados, se você não se lembrar deles, pode revê-los abaixo.)\n",
    "\n",
    "Aqui estão alguns métodos em [`string`](https://docs.python.org/3/library/string.html) que são amplamente usados em data wrangling, aplicados em funções lambda."
   ]
  },
  {
   "cell_type": "markdown",
   "metadata": {},
   "source": [
    "### `split`\n",
    "\n",
    "O método [`str.split()`](https://docs.python.org/3/library/stdtypes.html#str.split) retorna uma lista de palavras em uma string separada pelo delimitador passado como um parâmetro."
   ]
  },
  {
   "cell_type": "code",
   "execution_count": 52,
   "metadata": {},
   "outputs": [
    {
     "data": {
      "text/plain": [
       "['a', ' b', '  guido', ' asjd', ' kle', ' askl']"
      ]
     },
     "execution_count": 52,
     "metadata": {},
     "output_type": "execute_result"
    }
   ],
   "source": [
    "strings = 'a, b,  guido, asjd, kle, askl'\n",
    "separador = ','\n",
    "string_em_partes = strings.split(separador)\n",
    "string_em_partes "
   ]
  },
  {
   "cell_type": "markdown",
   "metadata": {},
   "source": [
    "### `strip`\n",
    "\n",
    "O método [`str.strip()`](https://docs.python.org/3/library/stdtypes.html#str.strip) retorna uma cópia de uma string, removendo os caracteres passados como parâmetros do início e do final da string. Se não especificarmos o valor do argumento, remove os espaços."
   ]
  },
  {
   "cell_type": "code",
   "execution_count": 55,
   "metadata": {},
   "outputs": [
    {
     "name": "stdout",
     "output_type": "stream",
     "text": [
      "Este é o primeiro exemplo....wow!!!\n",
      "e este é o segundo exemplo....wow!!!\n",
      "    0000000Este é o segundo exemplo....wow!!!\n"
     ]
    }
   ],
   "source": [
    "texto = \"   Este é o primeiro exemplo....wow!!!   \";\n",
    "texto_sem_espacos = texto.strip()\n",
    "print(texto_sem_espacos)\n",
    "\n",
    "texto1 = \"0000000e este é o segundo exemplo....wow!!!0000000\";\n",
    "texto1_sem_zeros = texto1.strip('0')\n",
    "print(texto1_sem_zeros)\n",
    "\n",
    "texto2 = \"    0000000Este é o segundo exemplo....wow!!!0000000\";\n",
    "texto2_sem_zeros = texto2.strip('0')\n",
    "print(texto2_sem_zeros)"
   ]
  },
  {
   "cell_type": "markdown",
   "metadata": {},
   "source": [
    "Observe que em texto2 ele não removeu os espaços iniciais, apenas o conjunto de caracteres no argumento."
   ]
  },
  {
   "cell_type": "markdown",
   "metadata": {},
   "source": [
    "### `find`\n",
    "\n",
    "O método [`str.find()`](https://docs.python.org/3/library/stdtypes.html#str.find) retorna o índice mínimo onde encontramos o valor passado como um parâmetro como uma substring. Se não o encontrar, retorna -1"
   ]
  },
  {
   "cell_type": "code",
   "execution_count": 56,
   "metadata": {},
   "outputs": [
    {
     "data": {
      "text/plain": [
       "'a, b,  guido, asjd, kle, askl'"
      ]
     },
     "execution_count": 56,
     "metadata": {},
     "output_type": "execute_result"
    }
   ],
   "source": [
    "strings"
   ]
  },
  {
   "cell_type": "code",
   "execution_count": 57,
   "metadata": {},
   "outputs": [
    {
     "data": {
      "text/plain": [
       "-1"
      ]
     },
     "execution_count": 57,
     "metadata": {},
     "output_type": "execute_result"
    }
   ],
   "source": [
    "strings.find(':')"
   ]
  },
  {
   "cell_type": "code",
   "execution_count": 58,
   "metadata": {},
   "outputs": [
    {
     "data": {
      "text/plain": [
       "14"
      ]
     },
     "execution_count": 58,
     "metadata": {},
     "output_type": "execute_result"
    }
   ],
   "source": [
    "strings.find('as')"
   ]
  },
  {
   "cell_type": "code",
   "execution_count": 59,
   "metadata": {},
   "outputs": [
    {
     "data": {
      "text/plain": [
       "14"
      ]
     },
     "execution_count": 59,
     "metadata": {},
     "output_type": "execute_result"
    }
   ],
   "source": [
    "strings.find('asj')"
   ]
  },
  {
   "cell_type": "code",
   "execution_count": 60,
   "metadata": {},
   "outputs": [
    {
     "data": {
      "text/plain": [
       "-1"
      ]
     },
     "execution_count": 60,
     "metadata": {},
     "output_type": "execute_result"
    }
   ],
   "source": [
    "strings.find('asp')"
   ]
  },
  {
   "cell_type": "code",
   "execution_count": null,
   "metadata": {},
   "outputs": [],
   "source": []
  },
  {
   "cell_type": "markdown",
   "metadata": {},
   "source": [
    "### `index`\n",
    "\n",
    "O método [`str.index()`](https://docs.python.org/3/library/stdtypes.html#str.index) semelhante ao método find, mas retorna uma exceção do tipo `ValueError` quando não consegue encontrar o valor pesquisado."
   ]
  },
  {
   "cell_type": "code",
   "execution_count": 61,
   "metadata": {},
   "outputs": [
    {
     "data": {
      "text/plain": [
       "1"
      ]
     },
     "execution_count": 61,
     "metadata": {},
     "output_type": "execute_result"
    }
   ],
   "source": [
    "strings.index(',')"
   ]
  },
  {
   "cell_type": "code",
   "execution_count": 62,
   "metadata": {},
   "outputs": [
    {
     "ename": "ValueError",
     "evalue": "substring not found",
     "output_type": "error",
     "traceback": [
      "\u001b[1;31m---------------------------------------------------------------------------\u001b[0m",
      "\u001b[1;31mValueError\u001b[0m                                Traceback (most recent call last)",
      "Input \u001b[1;32mIn [62]\u001b[0m, in \u001b[0;36m<cell line: 1>\u001b[1;34m()\u001b[0m\n\u001b[1;32m----> 1\u001b[0m \u001b[43mstrings\u001b[49m\u001b[38;5;241;43m.\u001b[39;49m\u001b[43mindex\u001b[49m\u001b[43m(\u001b[49m\u001b[38;5;124;43m'\u001b[39;49m\u001b[38;5;124;43m:\u001b[39;49m\u001b[38;5;124;43m'\u001b[39;49m\u001b[43m)\u001b[49m\n",
      "\u001b[1;31mValueError\u001b[0m: substring not found"
     ]
    }
   ],
   "source": [
    "strings.index(':')"
   ]
  },
  {
   "cell_type": "markdown",
   "metadata": {},
   "source": [
    "### `count`\n",
    "\n",
    "O método [`str.count()`](https://docs.python.org/3/library/stdtypes.html#str.count) retorna o número de ocorrências do valor passado como parâmetro."
   ]
  },
  {
   "cell_type": "code",
   "execution_count": 63,
   "metadata": {},
   "outputs": [
    {
     "data": {
      "text/plain": [
       "5"
      ]
     },
     "execution_count": 63,
     "metadata": {},
     "output_type": "execute_result"
    }
   ],
   "source": [
    "strings.count(',')"
   ]
  },
  {
   "cell_type": "code",
   "execution_count": 64,
   "metadata": {},
   "outputs": [
    {
     "data": {
      "text/plain": [
       "2"
      ]
     },
     "execution_count": 64,
     "metadata": {},
     "output_type": "execute_result"
    }
   ],
   "source": [
    "strings.count('as')"
   ]
  },
  {
   "cell_type": "markdown",
   "metadata": {},
   "source": [
    "### `replace`\n",
    "\n",
    "O método [`str.replace()`](https://docs.python.org/3/library/stdtypes.html#str.replace) retorna uma cópia da string com todas as ocorrências do primeiro argumento substituídas pelo segundo argumento."
   ]
  },
  {
   "cell_type": "code",
   "execution_count": 65,
   "metadata": {},
   "outputs": [
    {
     "data": {
      "text/plain": [
       "'a; b;  guido; asjd; kle; askl'"
      ]
     },
     "execution_count": 65,
     "metadata": {},
     "output_type": "execute_result"
    }
   ],
   "source": [
    "replace_exemplo1 = strings.replace(',', ';')\n",
    "replace_exemplo1"
   ]
  },
  {
   "cell_type": "code",
   "execution_count": 66,
   "metadata": {},
   "outputs": [
    {
     "data": {
      "text/plain": [
       "'a, b,  guido, qwjd, kle, qwkl'"
      ]
     },
     "execution_count": 66,
     "metadata": {},
     "output_type": "execute_result"
    }
   ],
   "source": [
    "replace_exemplo2 = strings.replace('as', 'qw')\n",
    "replace_exemplo2"
   ]
  },
  {
   "cell_type": "markdown",
   "metadata": {},
   "source": [
    "---\n",
    "\n",
    "#### Referências\n",
    "\n",
    "Python for Data Analysis. Wes McKinney. Cap 12\n",
    "\n",
    "- [string — Common string operations](https://docs.python.org/3/library/string.html)"
   ]
  },
  {
   "cell_type": "code",
   "execution_count": null,
   "metadata": {},
   "outputs": [],
   "source": []
  }
 ],
 "metadata": {
  "kernelspec": {
   "display_name": "Python 3 (ipykernel)",
   "language": "python",
   "name": "python3"
  },
  "language_info": {
   "codemirror_mode": {
    "name": "ipython",
    "version": 3
   },
   "file_extension": ".py",
   "mimetype": "text/x-python",
   "name": "python",
   "nbconvert_exporter": "python",
   "pygments_lexer": "ipython3",
   "version": "3.9.12"
  }
 },
 "nbformat": 4,
 "nbformat_minor": 4
}
